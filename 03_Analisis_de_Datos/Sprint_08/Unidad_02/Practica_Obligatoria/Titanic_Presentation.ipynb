{
 "cells": [
  {
   "cell_type": "markdown",
   "id": "8c200fab",
   "metadata": {},
   "source": [
    "\n",
    "# An�lisis de Supervivencia del Titanic\n",
    "### Una mirada a los factores que influyeron en las tasas de supervivencia\n"
   ]
  },
  {
   "cell_type": "markdown",
   "id": "898ec281",
   "metadata": {},
   "source": [
    "\n",
    "## Alta Tasa de Mortalidad\n",
    "El Titanic fue un desastre con una tasa de mortalidad alta.\n",
    "- Tasa de mortalidad general: 61.62%\n"
   ]
  },
  {
   "cell_type": "code",
   "execution_count": null,
   "id": "2dde3ea5",
   "metadata": {},
   "outputs": [],
   "source": [
    "from IPython.display import Image\n",
    "Image('./data/slide1_mortalidad.png')"
   ]
  },
  {
   "cell_type": "markdown",
   "id": "8cd4ec3b",
   "metadata": {},
   "source": [
    "\n",
    "## Prioridad a Mujeres y Ni�os\n",
    "Las mujeres y los ni�os primero: un principio que se reflej� en las tasas de supervivencia.\n",
    "- Tasa de supervivencia por g�nero: Mujeres 74.20%, Hombres 18.89%\n"
   ]
  },
  {
   "cell_type": "code",
   "execution_count": null,
   "id": "c709eafd",
   "metadata": {},
   "outputs": [],
   "source": [
    "from IPython.display import Image\n",
    "Image('./data/slide2_supervivencia_genero.png')"
   ]
  },
  {
   "cell_type": "markdown",
   "id": "f4c71e16",
   "metadata": {},
   "source": [
    "\n",
    "## Clase como Factor Determinante\n",
    "La clase de viaje influy� significativamente en la supervivencia.\n"
   ]
  },
  {
   "cell_type": "code",
   "execution_count": null,
   "id": "614975d2",
   "metadata": {},
   "outputs": [],
   "source": [
    "from IPython.display import Image\n",
    "Image('./data/slide3_supervivencia_clase.png')"
   ]
  },
  {
   "cell_type": "markdown",
   "id": "82f9f100",
   "metadata": {},
   "source": [
    "\n",
    "## Diferencias por Clase entre Mujeres y Ni�os\n",
    "Las clases altas tuvieron tasas de supervivencia superiores, incluso entre mujeres y ni�os.\n"
   ]
  },
  {
   "cell_type": "code",
   "execution_count": null,
   "id": "f17a09d3",
   "metadata": {},
   "outputs": [],
   "source": [
    "from IPython.display import Image\n",
    "Image('./data/slide4_supervivencia_mujeres_ni�os_clase.png')"
   ]
  },
  {
   "cell_type": "markdown",
   "id": "50e2ea7d",
   "metadata": {},
   "source": [
    "\n",
    "## Puerto de Embarque y Tipo de Pasaje\n",
    "El puerto de embarque refleja diferencias, posiblemente debido al tipo de pasaje.  Como se ve en el mapa de calor, la tasa de superviviencia es mayor en primera y segunda clase con respectos a tercera independientemente de la ciudad de embarque.\n",
    "\n",
    "Este gr�fico lo que muestra es el porcentaje de supervivencia por grupo, seg�n ciudad de embarque y clase.\n"
   ]
  },
  {
   "cell_type": "code",
   "execution_count": null,
   "id": "89fb08ff",
   "metadata": {},
   "outputs": [],
   "source": [
    "from IPython.display import Image\n",
    "Image('./data/slide5_supervivencia_puerto_clase.png')"
   ]
  }
 ],
 "metadata": {},
 "nbformat": 4,
 "nbformat_minor": 5
}
