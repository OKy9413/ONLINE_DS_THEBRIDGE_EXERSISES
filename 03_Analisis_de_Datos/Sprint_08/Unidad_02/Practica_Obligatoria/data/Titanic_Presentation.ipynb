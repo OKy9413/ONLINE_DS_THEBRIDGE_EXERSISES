{
 "cells": [
  {
   "cell_type": "markdown",
   "id": "cead5005",
   "metadata": {},
   "source": [
    "\n",
    "# An�lisis de Supervivencia del Titanic\n",
    "### Una mirada a los factores que influyeron en las tasas de supervivencia\n"
   ]
  },
  {
   "cell_type": "markdown",
   "id": "9e87fc81",
   "metadata": {},
   "source": [
    "\n",
    "## Alta Tasa de Mortalidad\n",
    "El Titanic fue un desastre con una tasa de mortalidad alta.\n",
    "- Tasa de mortalidad general: 61.62%\n"
   ]
  },
  {
   "cell_type": "code",
   "execution_count": null,
   "id": "da649cf1",
   "metadata": {},
   "outputs": [],
   "source": [
    "from IPython.display import Image\n",
    "Image('./data/slide1_mortalidad.png')"
   ]
  },
  {
   "cell_type": "markdown",
   "id": "aaba5ec9",
   "metadata": {},
   "source": [
    "\n",
    "## Prioridad a Mujeres y Ni�os\n",
    "Las mujeres y los ni�os primero: un principio que se reflej� en las tasas de supervivencia.\n",
    "- Tasa de supervivencia por g�nero: Mujeres 74.20%, Hombres 18.89%\n"
   ]
  },
  {
   "cell_type": "code",
   "execution_count": null,
   "id": "2ba319a1",
   "metadata": {},
   "outputs": [],
   "source": [
    "from IPython.display import Image\n",
    "Image('./data/slide2_supervivencia_genero.png')"
   ]
  },
  {
   "cell_type": "markdown",
   "id": "23956fb1",
   "metadata": {},
   "source": [
    "\n",
    "## Clase como Factor Determinante\n",
    "La clase de viaje influy� significativamente en la supervivencia.\n"
   ]
  },
  {
   "cell_type": "code",
   "execution_count": null,
   "id": "7bd5e496",
   "metadata": {},
   "outputs": [],
   "source": [
    "from IPython.display import Image\n",
    "Image('./data/slide3_supervivencia_clase.png')"
   ]
  },
  {
   "cell_type": "markdown",
   "id": "2a2cd965",
   "metadata": {},
   "source": [
    "\n",
    "## Diferencias por Clase entre Mujeres y Ni�os\n",
    "Las clases altas tuvieron tasas de supervivencia superiores, incluso entre mujeres y ni�os.\n"
   ]
  },
  {
   "cell_type": "code",
   "execution_count": null,
   "id": "3e68193c",
   "metadata": {},
   "outputs": [],
   "source": [
    "from IPython.display import Image\n",
    "Image('./data/slide4_supervivencia_mujeres_ni�os_clase.png')"
   ]
  },
  {
   "cell_type": "markdown",
   "id": "2e3f9e1f",
   "metadata": {},
   "source": [
    "\n",
    "## Puerto de Embarque y Tipo de Pasaje\n",
    "El puerto de embarque refleja diferencias, posiblemente debido al tipo de pasaje.\n"
   ]
  },
  {
   "cell_type": "code",
   "execution_count": null,
   "id": "a0f05c9e",
   "metadata": {},
   "outputs": [],
   "source": [
    "from IPython.display import Image\n",
    "Image('./data/slide5_supervivencia_puerto_clase.png')"
   ]
  }
 ],
 "metadata": {},
 "nbformat": 4,
 "nbformat_minor": 5
}
