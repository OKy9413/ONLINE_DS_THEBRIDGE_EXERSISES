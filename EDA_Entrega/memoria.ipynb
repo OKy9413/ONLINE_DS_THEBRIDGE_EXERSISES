{
 "cells": [
  {
   "cell_type": "markdown",
   "metadata": {},
   "source": [
    "# Memoria **COVID_&_mobility**"
   ]
  },
  {
   "cell_type": "markdown",
   "metadata": {},
   "source": [
    "## 1_INTRODUCCIÓN"
   ]
  },
  {
   "cell_type": "markdown",
   "metadata": {},
   "source": [
    "Cruce de datos de incidencia de la covid_19 en España proporcionados por el Ministerio de Sanidad con datos de movilidad sobre la afluencia de personas a determinadas lugares agrupados en diferentes categorías proporcionados por Google. <br>\n",
    "Todo ello agrupado por fechas y provincias. Fechas entre 15-02-2020 y 27-03-2022.\n",
    "\n",
    "Veremos la correspondencia entre la incidencia del covid y las métricas de afluencia de público a según qué sitios.\n"
   ]
  },
  {
   "cell_type": "markdown",
   "metadata": {},
   "source": [
    "### HIPÓTESIS"
   ]
  },
  {
   "cell_type": "markdown",
   "metadata": {},
   "source": [
    "##### La principal hipótesis es que la incidencia del Covid influyó sobre los lugares que mas se frecuentaron durante la pandemia.\n",
    "\n",
    "De ahí salen varias preguntas: <br>\n",
    "- ¿Existen cambios significativos en los patrones de conducta durante este periodo? <br>\n",
    "- ¿Existe correspondencia entre las diferentes métricas temporales? <br>\n",
    "- ¿Podemos con estos datos afirmar que existe causalidad o mera correspondencia entre ellos? <br>\n",
    "- ¿Qué efectos tiene para cada categoría de estudio? <br>\n",
    "- ¿Cuánto duran los efectos de esos cambios? <br>\n",
    "\n",
    "\n",
    "##### Por otro lado, podríamos verlo al revés, ¿influye los lugares frecuentados con el crecimiento de los datos de incidencia del covid?\n",
    "\n"
   ]
  },
  {
   "cell_type": "markdown",
   "metadata": {},
   "source": [
    "## 2_OBTENCIÓN DE LOS DATOS"
   ]
  },
  {
   "cell_type": "markdown",
   "metadata": {},
   "source": [
    "### DATASETS"
   ]
  },
  {
   "cell_type": "markdown",
   "metadata": {},
   "source": [
    "*df_google* es un dataset publicado por Google que se puede descargar del siguiente enlace: [www.google.com/covid19/mobility/data_documentation](https://www.google.com/covid19/mobility/data_documentation.html?hl=es) <br>\n",
    "*df_covd19* es un dataset publicado por el [Instituto de Salud Carlos III (ISCIII)](https://www.isciii.es) y que puede encontrar en el siguiente enlace: [casos_hosp_uci_def_sexo_edad_provres.csv](https://cnecovid.isciii.es/covid19/resources/casos_hosp_uci_def_sexo_edad_provres.csv)\n"
   ]
  },
  {
   "cell_type": "code",
   "execution_count": 2,
   "metadata": {},
   "outputs": [],
   "source": [
    "import pandas as pd\n",
    "\n",
    "df_20 = pd.read_csv('2020_ES_Region_Mobility_Report.csv')\n",
    "df_21 = pd.read_csv('2021_ES_Region_Mobility_Report.csv')\n",
    "df_22 = pd.read_csv('2022_ES_Region_Mobility_Report.csv')\n",
    "df_google = pd.concat([df_20, df_21, df_22], ignore_index= True)\n",
    "\n",
    "df_covid19 = pd.read_csv('casos_hosp_uci_def_sexo_edad_provres.csv')"
   ]
  },
  {
   "cell_type": "code",
   "execution_count": 3,
   "metadata": {},
   "outputs": [
    {
     "data": {
      "text/html": [
       "<div>\n",
       "<style scoped>\n",
       "    .dataframe tbody tr th:only-of-type {\n",
       "        vertical-align: middle;\n",
       "    }\n",
       "\n",
       "    .dataframe tbody tr th {\n",
       "        vertical-align: top;\n",
       "    }\n",
       "\n",
       "    .dataframe thead th {\n",
       "        text-align: right;\n",
       "    }\n",
       "</style>\n",
       "<table border=\"1\" class=\"dataframe\">\n",
       "  <thead>\n",
       "    <tr style=\"text-align: right;\">\n",
       "      <th></th>\n",
       "      <th>country_region_code</th>\n",
       "      <th>country_region</th>\n",
       "      <th>sub_region_1</th>\n",
       "      <th>sub_region_2</th>\n",
       "      <th>metro_area</th>\n",
       "      <th>iso_3166_2_code</th>\n",
       "      <th>census_fips_code</th>\n",
       "      <th>place_id</th>\n",
       "      <th>date</th>\n",
       "      <th>retail_and_recreation_percent_change_from_baseline</th>\n",
       "      <th>grocery_and_pharmacy_percent_change_from_baseline</th>\n",
       "      <th>parks_percent_change_from_baseline</th>\n",
       "      <th>transit_stations_percent_change_from_baseline</th>\n",
       "      <th>workplaces_percent_change_from_baseline</th>\n",
       "      <th>residential_percent_change_from_baseline</th>\n",
       "    </tr>\n",
       "  </thead>\n",
       "  <tbody>\n",
       "    <tr>\n",
       "      <th>0</th>\n",
       "      <td>ES</td>\n",
       "      <td>Spain</td>\n",
       "      <td>NaN</td>\n",
       "      <td>NaN</td>\n",
       "      <td>NaN</td>\n",
       "      <td>NaN</td>\n",
       "      <td>NaN</td>\n",
       "      <td>ChIJi7xhMnjjQgwR7KNoB5Qs7KY</td>\n",
       "      <td>2020-02-15</td>\n",
       "      <td>2.0</td>\n",
       "      <td>-1.0</td>\n",
       "      <td>26.0</td>\n",
       "      <td>8.0</td>\n",
       "      <td>0.0</td>\n",
       "      <td>-2.0</td>\n",
       "    </tr>\n",
       "    <tr>\n",
       "      <th>1</th>\n",
       "      <td>ES</td>\n",
       "      <td>Spain</td>\n",
       "      <td>NaN</td>\n",
       "      <td>NaN</td>\n",
       "      <td>NaN</td>\n",
       "      <td>NaN</td>\n",
       "      <td>NaN</td>\n",
       "      <td>ChIJi7xhMnjjQgwR7KNoB5Qs7KY</td>\n",
       "      <td>2020-02-16</td>\n",
       "      <td>2.0</td>\n",
       "      <td>3.0</td>\n",
       "      <td>13.0</td>\n",
       "      <td>5.0</td>\n",
       "      <td>-1.0</td>\n",
       "      <td>-2.0</td>\n",
       "    </tr>\n",
       "    <tr>\n",
       "      <th>2</th>\n",
       "      <td>ES</td>\n",
       "      <td>Spain</td>\n",
       "      <td>NaN</td>\n",
       "      <td>NaN</td>\n",
       "      <td>NaN</td>\n",
       "      <td>NaN</td>\n",
       "      <td>NaN</td>\n",
       "      <td>ChIJi7xhMnjjQgwR7KNoB5Qs7KY</td>\n",
       "      <td>2020-02-17</td>\n",
       "      <td>0.0</td>\n",
       "      <td>1.0</td>\n",
       "      <td>9.0</td>\n",
       "      <td>3.0</td>\n",
       "      <td>3.0</td>\n",
       "      <td>-1.0</td>\n",
       "    </tr>\n",
       "    <tr>\n",
       "      <th>3</th>\n",
       "      <td>ES</td>\n",
       "      <td>Spain</td>\n",
       "      <td>NaN</td>\n",
       "      <td>NaN</td>\n",
       "      <td>NaN</td>\n",
       "      <td>NaN</td>\n",
       "      <td>NaN</td>\n",
       "      <td>ChIJi7xhMnjjQgwR7KNoB5Qs7KY</td>\n",
       "      <td>2020-02-18</td>\n",
       "      <td>-2.0</td>\n",
       "      <td>0.0</td>\n",
       "      <td>5.0</td>\n",
       "      <td>4.0</td>\n",
       "      <td>3.0</td>\n",
       "      <td>0.0</td>\n",
       "    </tr>\n",
       "    <tr>\n",
       "      <th>4</th>\n",
       "      <td>ES</td>\n",
       "      <td>Spain</td>\n",
       "      <td>NaN</td>\n",
       "      <td>NaN</td>\n",
       "      <td>NaN</td>\n",
       "      <td>NaN</td>\n",
       "      <td>NaN</td>\n",
       "      <td>ChIJi7xhMnjjQgwR7KNoB5Qs7KY</td>\n",
       "      <td>2020-02-19</td>\n",
       "      <td>0.0</td>\n",
       "      <td>1.0</td>\n",
       "      <td>11.0</td>\n",
       "      <td>2.0</td>\n",
       "      <td>3.0</td>\n",
       "      <td>-1.0</td>\n",
       "    </tr>\n",
       "  </tbody>\n",
       "</table>\n",
       "</div>"
      ],
      "text/plain": [
       "  country_region_code country_region sub_region_1 sub_region_2  metro_area  \\\n",
       "0                  ES          Spain          NaN          NaN         NaN   \n",
       "1                  ES          Spain          NaN          NaN         NaN   \n",
       "2                  ES          Spain          NaN          NaN         NaN   \n",
       "3                  ES          Spain          NaN          NaN         NaN   \n",
       "4                  ES          Spain          NaN          NaN         NaN   \n",
       "\n",
       "  iso_3166_2_code  census_fips_code                     place_id        date  \\\n",
       "0             NaN               NaN  ChIJi7xhMnjjQgwR7KNoB5Qs7KY  2020-02-15   \n",
       "1             NaN               NaN  ChIJi7xhMnjjQgwR7KNoB5Qs7KY  2020-02-16   \n",
       "2             NaN               NaN  ChIJi7xhMnjjQgwR7KNoB5Qs7KY  2020-02-17   \n",
       "3             NaN               NaN  ChIJi7xhMnjjQgwR7KNoB5Qs7KY  2020-02-18   \n",
       "4             NaN               NaN  ChIJi7xhMnjjQgwR7KNoB5Qs7KY  2020-02-19   \n",
       "\n",
       "   retail_and_recreation_percent_change_from_baseline  \\\n",
       "0                                                2.0    \n",
       "1                                                2.0    \n",
       "2                                                0.0    \n",
       "3                                               -2.0    \n",
       "4                                                0.0    \n",
       "\n",
       "   grocery_and_pharmacy_percent_change_from_baseline  \\\n",
       "0                                               -1.0   \n",
       "1                                                3.0   \n",
       "2                                                1.0   \n",
       "3                                                0.0   \n",
       "4                                                1.0   \n",
       "\n",
       "   parks_percent_change_from_baseline  \\\n",
       "0                                26.0   \n",
       "1                                13.0   \n",
       "2                                 9.0   \n",
       "3                                 5.0   \n",
       "4                                11.0   \n",
       "\n",
       "   transit_stations_percent_change_from_baseline  \\\n",
       "0                                            8.0   \n",
       "1                                            5.0   \n",
       "2                                            3.0   \n",
       "3                                            4.0   \n",
       "4                                            2.0   \n",
       "\n",
       "   workplaces_percent_change_from_baseline  \\\n",
       "0                                      0.0   \n",
       "1                                     -1.0   \n",
       "2                                      3.0   \n",
       "3                                      3.0   \n",
       "4                                      3.0   \n",
       "\n",
       "   residential_percent_change_from_baseline  \n",
       "0                                      -2.0  \n",
       "1                                      -2.0  \n",
       "2                                      -1.0  \n",
       "3                                       0.0  \n",
       "4                                      -1.0  "
      ]
     },
     "execution_count": 3,
     "metadata": {},
     "output_type": "execute_result"
    }
   ],
   "source": [
    "df_google.head()"
   ]
  },
  {
   "cell_type": "code",
   "execution_count": 4,
   "metadata": {},
   "outputs": [
    {
     "data": {
      "text/html": [
       "<div>\n",
       "<style scoped>\n",
       "    .dataframe tbody tr th:only-of-type {\n",
       "        vertical-align: middle;\n",
       "    }\n",
       "\n",
       "    .dataframe tbody tr th {\n",
       "        vertical-align: top;\n",
       "    }\n",
       "\n",
       "    .dataframe thead th {\n",
       "        text-align: right;\n",
       "    }\n",
       "</style>\n",
       "<table border=\"1\" class=\"dataframe\">\n",
       "  <thead>\n",
       "    <tr style=\"text-align: right;\">\n",
       "      <th></th>\n",
       "      <th>provincia_iso</th>\n",
       "      <th>sexo</th>\n",
       "      <th>grupo_edad</th>\n",
       "      <th>fecha</th>\n",
       "      <th>num_casos</th>\n",
       "      <th>num_hosp</th>\n",
       "      <th>num_uci</th>\n",
       "      <th>num_def</th>\n",
       "    </tr>\n",
       "  </thead>\n",
       "  <tbody>\n",
       "    <tr>\n",
       "      <th>0</th>\n",
       "      <td>A</td>\n",
       "      <td>H</td>\n",
       "      <td>0-9</td>\n",
       "      <td>2020-01-01</td>\n",
       "      <td>0</td>\n",
       "      <td>0</td>\n",
       "      <td>0</td>\n",
       "      <td>0</td>\n",
       "    </tr>\n",
       "    <tr>\n",
       "      <th>1</th>\n",
       "      <td>A</td>\n",
       "      <td>H</td>\n",
       "      <td>10-19</td>\n",
       "      <td>2020-01-01</td>\n",
       "      <td>0</td>\n",
       "      <td>0</td>\n",
       "      <td>0</td>\n",
       "      <td>0</td>\n",
       "    </tr>\n",
       "    <tr>\n",
       "      <th>2</th>\n",
       "      <td>A</td>\n",
       "      <td>H</td>\n",
       "      <td>20-29</td>\n",
       "      <td>2020-01-01</td>\n",
       "      <td>0</td>\n",
       "      <td>0</td>\n",
       "      <td>0</td>\n",
       "      <td>0</td>\n",
       "    </tr>\n",
       "    <tr>\n",
       "      <th>3</th>\n",
       "      <td>A</td>\n",
       "      <td>H</td>\n",
       "      <td>30-39</td>\n",
       "      <td>2020-01-01</td>\n",
       "      <td>0</td>\n",
       "      <td>0</td>\n",
       "      <td>0</td>\n",
       "      <td>0</td>\n",
       "    </tr>\n",
       "    <tr>\n",
       "      <th>4</th>\n",
       "      <td>A</td>\n",
       "      <td>H</td>\n",
       "      <td>40-49</td>\n",
       "      <td>2020-01-01</td>\n",
       "      <td>0</td>\n",
       "      <td>0</td>\n",
       "      <td>0</td>\n",
       "      <td>0</td>\n",
       "    </tr>\n",
       "  </tbody>\n",
       "</table>\n",
       "</div>"
      ],
      "text/plain": [
       "  provincia_iso sexo grupo_edad       fecha  num_casos  num_hosp  num_uci  \\\n",
       "0             A    H        0-9  2020-01-01          0         0        0   \n",
       "1             A    H      10-19  2020-01-01          0         0        0   \n",
       "2             A    H      20-29  2020-01-01          0         0        0   \n",
       "3             A    H      30-39  2020-01-01          0         0        0   \n",
       "4             A    H      40-49  2020-01-01          0         0        0   \n",
       "\n",
       "   num_def  \n",
       "0        0  \n",
       "1        0  \n",
       "2        0  \n",
       "3        0  \n",
       "4        0  "
      ]
     },
     "execution_count": 4,
     "metadata": {},
     "output_type": "execute_result"
    }
   ],
   "source": [
    "df_covid19.head()"
   ]
  },
  {
   "cell_type": "markdown",
   "metadata": {},
   "source": [
    "-  Tras cargar *df_google* prescindimos de las columnas *metro_area y census_fips_code* ya que no aportan información. <br> \n",
    "    Posteriormente rellenamos la columna *sub_region_1* por faltar nombres de las provincias de las comunidades con una sola provincia. Comprobamos que están todas las provincias. <br>\n",
    "    Creamos una nueva columna a partir de *sub_region_1*, *provincia_id_g* para cruzarla con la otra tabla.\n",
    "\n",
    "- En *df_covid19* encontramos que hay datos que no están asociados a provincias concretas, prescindimos de ellos ya que queremos solo los datos asociados a una provincia.\n",
    "\n",
    "Una vez que tenemos los dos dataset preparados que vamos a usar en este EDA toca unirlos, para ello se hace un *merge* de df_google sobre df_covid19 por las columnas fecha y provincia. Columnas estas previamente armonizadas.  "
   ]
  },
  {
   "cell_type": "markdown",
   "metadata": {},
   "source": [
    "## 3_LIMPIEZA DE LOS DATOS"
   ]
  },
  {
   "cell_type": "markdown",
   "metadata": {},
   "source": [
    "- Borramos la columna *Unnamed: 0*.\n",
    "- Recortamos el dataframe por las primeras fechas ya que no hay datos de google antes del 15-02-2020. \n",
    "- Tratamos varios nulos en las columnas de las provincias que tiene como resultado prescindir de los datos sobre Ceuta y Melilla. \n",
    "- Además observamos una serie de nulos que corresponden a situaciónes en las que google ha considerado que no tenían sufiente calidad los datos que había recogido. <br>\n",
    "    Son casos puntuales, por lo que los rellenamos con la media de los valores del día anterior y posterior.\n",
    "- Dropeamos entonces las columnas *['date', 'provincia_iso_g', 'country_region_code', 'iso_3166_2_code']*.\n",
    "- Renombramos y reordenamos las columnas.\n",
    "\n",
    "Y ya tenemos el dataset limpio y listo para el estudio."
   ]
  },
  {
   "cell_type": "markdown",
   "metadata": {},
   "source": [
    "## 4_ESTUDIO"
   ]
  },
  {
   "cell_type": "markdown",
   "metadata": {},
   "source": [
    "- Cambio de las fechas a *type datetime*.\n",
    "\n",
    "Comienzo del Análisis univariante:\n",
    "- Contrucción de la tabla resumen de análisis de los datos de las diferentes columnas con *nombre, type, prio, card, card%, class y mode*.\n",
    "- Gráficas sobre la distribución de los datos. Primero las Categóricas y luego las numéricas.\n",
    "\n",
    "Creamos nuevos subdataframes, agrupando por *fechas* y por *fechas y provincias*. Trabajaremos principalmente con la agrupación por *fechas*. \n",
    "- Primero volvemos hacer el análizar el análisis univariante de las columnas numéricas.\n",
    "\n",
    "Aquí comienza el análisis bivariante:\n",
    "- Lo primero es hacer un análisis de los datos de la incidencia del covid en función del tiempo. Además suavizamos la curva para asumir fallas semanales en la recogida de datos. Ventana de 7 días. Usamos gráfica de líneas.\n",
    "- Realizamos diferentes gráficas para comprar las diferentes métricas de incidencia. Usaremos *num_casos* y *num_hosp* para lo siguiente.\n",
    "- Seguimos con un análsis temporal de los datos de afluencia de gente. También suavizamos con ventana de 7 días. Le superponemos la línea de *num_casos* para ver posibles correlaciones. Usamos gráfica de líneas.\n",
    "- Comparamos ahora directamente mediante mapas de calor cada una de las categorías de lugares de Google, primero con *num_casos*, y luego con también con el resto de métricas de incidencia. \n",
    "- Así mismo hacemos una comparación de los mapas de calor anteriores con otro con un desfase de 15 días atendiendo al periodo de desactivación del contagio del covid.\n",
    "- Se observa, \n",
    "    - primero que podría existir cierta correspondencia entre las métricas, \n",
    "    - segundo se duda de la fiabildad de *num_casos*, \n",
    "    - tercero parece haber más corresondencia con el desfase de 15 días.\n",
    "- Para tratar de aclarar esto buscamos una representación algo más clarificadora, y hacemos lo mismo con diagramas de puntos. Y nos aclaran dos cosas: <br>\n",
    "    - *num_casos* no es un buen dato ya que no parece reflejar bien la intensidad real de la epidemia por la imposibilidad de registrar todos los casos. Optamos por trabajar con *num_hosp*. <br>\n",
    "    - se confirma la correspondencia con el desfase.\n",
    "- Volvemos a hacer la comparación temporal de cada categoría de lugar esta vez con *num_hosp* y el análisis visual muestra mayor correspondencia.\n",
    "- Para terminar comprobamos la correlación de Pearson entre las columnas que no sale nada llamativo. Pero al hacer la correlación cruzada observamos correlaciones de en torno a 0.7 en la mayoría de ellas a 10 días. "
   ]
  },
  {
   "cell_type": "markdown",
   "metadata": {},
   "source": [
    "## 5_CONCLUSIONES"
   ]
  },
  {
   "cell_type": "markdown",
   "metadata": {},
   "source": [
    "- El mejor indicador epidemiológico parece ser el número de hospitalizaciones.\n",
    "- No podemos afirmar a ciencia cierta que haya causalidad, pero sí podemos hablar de correspondencia. \n",
    "- En ese sentido podríamos concluir que en general hay una correspondencia moderada-fuerte entre la incidencia del covid y la afluencia de público a lugares de comercio_ocio, estaciones y lugares de trabajo inversamente proporcional y una relación directa con las zonas residenciales.\n",
    "- No pasa así con los supermercados_farmacias y parques cuya afluencia de público parece ser independiente del número de hospitalizaciones.\n",
    "- En los primeros, la tendencia es a la normalización con la baseline. En los segundos tienen una tendencia alcista. Si bien, en las zonas de trabajo la afluencia de público parece constante y menor a la baseline sin vistas de movimiento. Algo parecido pasa con las zonas de comercio_ocio que aún al final no han recuperado su afluencia.\n",
    "- En general este comportamiento se corresponde con lo anteriormente citado, si bien se ve relajado con el tiempo.\n",
    "- Esta correlación moderada-fuerte se da con 10 días de antelación. Es decir, la correspondencia se da entre los datos de afluencia de 10 días anteriores con respecto al número de hospitalizados.\n"
   ]
  },
  {
   "cell_type": "markdown",
   "metadata": {},
   "source": [
    "## 6_ESTUDIOS FUTUROS"
   ]
  },
  {
   "cell_type": "markdown",
   "metadata": {},
   "source": [
    "- Hacer estudios por provincia para ver si todas siguen el mismo patrón de comportamiento.\n",
    "- Cruzar los datos con las poblaciones de cada provincia y estudiar los datos proporcionalmente.\n",
    "- Hacer estudios teniendo en cuenta el sexo y los grupos de edad.\n",
    "- Incluir hitos como medidas de restricciones de movilidad generales y por ámbitos geográficos. Así como uso de mascarilla en según qué sitios.\n",
    "- Dividir la muestra en periodos. Estudiar la estacionalidad.\n",
    "- Entrenar un modelo que nos permita rellenar los NAN que encontramos en Ceuta y Melilla"
   ]
  }
 ],
 "metadata": {
  "kernelspec": {
   "display_name": "Python 3.7.4 64-bit",
   "language": "python",
   "name": "python3"
  },
  "language_info": {
   "codemirror_mode": {
    "name": "ipython",
    "version": 3
   },
   "file_extension": ".py",
   "mimetype": "text/x-python",
   "name": "python",
   "nbconvert_exporter": "python",
   "pygments_lexer": "ipython3",
   "version": "3.11.4"
  },
  "orig_nbformat": 4,
  "vscode": {
   "interpreter": {
    "hash": "90139cb9a825bf3d63f6f6704e828dbd1ff7edbd4d0c6e906a71235d6efc74af"
   }
  }
 },
 "nbformat": 4,
 "nbformat_minor": 2
}
