{
 "cells": [
  {
   "cell_type": "code",
   "execution_count": 1,
   "metadata": {},
   "outputs": [],
   "source": [
    "import pandas as pd\n",
    "import datetime as dt\n",
    "import pprint\n",
    "pp = pprint.PrettyPrinter(indent=4)"
   ]
  },
  {
   "cell_type": "code",
   "execution_count": 2,
   "metadata": {},
   "outputs": [],
   "source": [
    "df_20 = pd.read_csv('2020_ES_Region_Mobility_Report.csv')\n",
    "df_21 = pd.read_csv('2021_ES_Region_Mobility_Report.csv')\n",
    "df_22 = pd.read_csv('2022_ES_Region_Mobility_Report.csv')"
   ]
  },
  {
   "cell_type": "code",
   "execution_count": 3,
   "metadata": {},
   "outputs": [
    {
     "name": "stdout",
     "output_type": "stream",
     "text": [
      "<class 'pandas.core.frame.DataFrame'>\n",
      "RangeIndex: 61349 entries, 0 to 61348\n",
      "Data columns (total 15 columns):\n",
      " #   Column                                              Non-Null Count  Dtype  \n",
      "---  ------                                              --------------  -----  \n",
      " 0   country_region_code                                 61349 non-null  object \n",
      " 1   country_region                                      61349 non-null  object \n",
      " 2   sub_region_1                                        60375 non-null  object \n",
      " 3   sub_region_2                                        41882 non-null  object \n",
      " 4   metro_area                                          0 non-null      float64\n",
      " 5   iso_3166_2_code                                     60375 non-null  object \n",
      " 6   census_fips_code                                    0 non-null      float64\n",
      " 7   place_id                                            61349 non-null  object \n",
      " 8   date                                                61349 non-null  object \n",
      " 9   retail_and_recreation_percent_change_from_baseline  61293 non-null  float64\n",
      " 10  grocery_and_pharmacy_percent_change_from_baseline   60319 non-null  float64\n",
      " 11  parks_percent_change_from_baseline                  61044 non-null  float64\n",
      " 12  transit_stations_percent_change_from_baseline       59655 non-null  float64\n",
      " 13  workplaces_percent_change_from_baseline             61307 non-null  float64\n",
      " 14  residential_percent_change_from_baseline            60914 non-null  float64\n",
      "dtypes: float64(8), object(7)\n",
      "memory usage: 7.0+ MB\n"
     ]
    }
   ],
   "source": [
    "df_google = pd.concat([df_20, df_21, df_22], ignore_index= True)\n",
    "df_google.info()"
   ]
  },
  {
   "cell_type": "code",
   "execution_count": 4,
   "metadata": {},
   "outputs": [
    {
     "data": {
      "text/html": [
       "<div>\n",
       "<style scoped>\n",
       "    .dataframe tbody tr th:only-of-type {\n",
       "        vertical-align: middle;\n",
       "    }\n",
       "\n",
       "    .dataframe tbody tr th {\n",
       "        vertical-align: top;\n",
       "    }\n",
       "\n",
       "    .dataframe thead th {\n",
       "        text-align: right;\n",
       "    }\n",
       "</style>\n",
       "<table border=\"1\" class=\"dataframe\">\n",
       "  <thead>\n",
       "    <tr style=\"text-align: right;\">\n",
       "      <th></th>\n",
       "      <th>country_region_code</th>\n",
       "      <th>country_region</th>\n",
       "      <th>sub_region_1</th>\n",
       "      <th>sub_region_2</th>\n",
       "      <th>metro_area</th>\n",
       "      <th>iso_3166_2_code</th>\n",
       "      <th>census_fips_code</th>\n",
       "      <th>place_id</th>\n",
       "      <th>date</th>\n",
       "      <th>retail_and_recreation_percent_change_from_baseline</th>\n",
       "      <th>grocery_and_pharmacy_percent_change_from_baseline</th>\n",
       "      <th>parks_percent_change_from_baseline</th>\n",
       "      <th>transit_stations_percent_change_from_baseline</th>\n",
       "      <th>workplaces_percent_change_from_baseline</th>\n",
       "      <th>residential_percent_change_from_baseline</th>\n",
       "    </tr>\n",
       "  </thead>\n",
       "  <tbody>\n",
       "    <tr>\n",
       "      <th>0</th>\n",
       "      <td>ES</td>\n",
       "      <td>Spain</td>\n",
       "      <td>NaN</td>\n",
       "      <td>NaN</td>\n",
       "      <td>NaN</td>\n",
       "      <td>NaN</td>\n",
       "      <td>NaN</td>\n",
       "      <td>ChIJi7xhMnjjQgwR7KNoB5Qs7KY</td>\n",
       "      <td>2020-02-15</td>\n",
       "      <td>2.0</td>\n",
       "      <td>-1.0</td>\n",
       "      <td>26.0</td>\n",
       "      <td>8.0</td>\n",
       "      <td>0.0</td>\n",
       "      <td>-2.0</td>\n",
       "    </tr>\n",
       "    <tr>\n",
       "      <th>1</th>\n",
       "      <td>ES</td>\n",
       "      <td>Spain</td>\n",
       "      <td>NaN</td>\n",
       "      <td>NaN</td>\n",
       "      <td>NaN</td>\n",
       "      <td>NaN</td>\n",
       "      <td>NaN</td>\n",
       "      <td>ChIJi7xhMnjjQgwR7KNoB5Qs7KY</td>\n",
       "      <td>2020-02-16</td>\n",
       "      <td>2.0</td>\n",
       "      <td>3.0</td>\n",
       "      <td>13.0</td>\n",
       "      <td>5.0</td>\n",
       "      <td>-1.0</td>\n",
       "      <td>-2.0</td>\n",
       "    </tr>\n",
       "    <tr>\n",
       "      <th>2</th>\n",
       "      <td>ES</td>\n",
       "      <td>Spain</td>\n",
       "      <td>NaN</td>\n",
       "      <td>NaN</td>\n",
       "      <td>NaN</td>\n",
       "      <td>NaN</td>\n",
       "      <td>NaN</td>\n",
       "      <td>ChIJi7xhMnjjQgwR7KNoB5Qs7KY</td>\n",
       "      <td>2020-02-17</td>\n",
       "      <td>0.0</td>\n",
       "      <td>1.0</td>\n",
       "      <td>9.0</td>\n",
       "      <td>3.0</td>\n",
       "      <td>3.0</td>\n",
       "      <td>-1.0</td>\n",
       "    </tr>\n",
       "    <tr>\n",
       "      <th>3</th>\n",
       "      <td>ES</td>\n",
       "      <td>Spain</td>\n",
       "      <td>NaN</td>\n",
       "      <td>NaN</td>\n",
       "      <td>NaN</td>\n",
       "      <td>NaN</td>\n",
       "      <td>NaN</td>\n",
       "      <td>ChIJi7xhMnjjQgwR7KNoB5Qs7KY</td>\n",
       "      <td>2020-02-18</td>\n",
       "      <td>-2.0</td>\n",
       "      <td>0.0</td>\n",
       "      <td>5.0</td>\n",
       "      <td>4.0</td>\n",
       "      <td>3.0</td>\n",
       "      <td>0.0</td>\n",
       "    </tr>\n",
       "    <tr>\n",
       "      <th>4</th>\n",
       "      <td>ES</td>\n",
       "      <td>Spain</td>\n",
       "      <td>NaN</td>\n",
       "      <td>NaN</td>\n",
       "      <td>NaN</td>\n",
       "      <td>NaN</td>\n",
       "      <td>NaN</td>\n",
       "      <td>ChIJi7xhMnjjQgwR7KNoB5Qs7KY</td>\n",
       "      <td>2020-02-19</td>\n",
       "      <td>0.0</td>\n",
       "      <td>1.0</td>\n",
       "      <td>11.0</td>\n",
       "      <td>2.0</td>\n",
       "      <td>3.0</td>\n",
       "      <td>-1.0</td>\n",
       "    </tr>\n",
       "  </tbody>\n",
       "</table>\n",
       "</div>"
      ],
      "text/plain": [
       "  country_region_code country_region sub_region_1 sub_region_2  metro_area  \\\n",
       "0                  ES          Spain          NaN          NaN         NaN   \n",
       "1                  ES          Spain          NaN          NaN         NaN   \n",
       "2                  ES          Spain          NaN          NaN         NaN   \n",
       "3                  ES          Spain          NaN          NaN         NaN   \n",
       "4                  ES          Spain          NaN          NaN         NaN   \n",
       "\n",
       "  iso_3166_2_code  census_fips_code                     place_id       date  \\\n",
       "0             NaN               NaN  ChIJi7xhMnjjQgwR7KNoB5Qs7KY 2020-02-15   \n",
       "1             NaN               NaN  ChIJi7xhMnjjQgwR7KNoB5Qs7KY 2020-02-16   \n",
       "2             NaN               NaN  ChIJi7xhMnjjQgwR7KNoB5Qs7KY 2020-02-17   \n",
       "3             NaN               NaN  ChIJi7xhMnjjQgwR7KNoB5Qs7KY 2020-02-18   \n",
       "4             NaN               NaN  ChIJi7xhMnjjQgwR7KNoB5Qs7KY 2020-02-19   \n",
       "\n",
       "   retail_and_recreation_percent_change_from_baseline  \\\n",
       "0                                                2.0    \n",
       "1                                                2.0    \n",
       "2                                                0.0    \n",
       "3                                               -2.0    \n",
       "4                                                0.0    \n",
       "\n",
       "   grocery_and_pharmacy_percent_change_from_baseline  \\\n",
       "0                                               -1.0   \n",
       "1                                                3.0   \n",
       "2                                                1.0   \n",
       "3                                                0.0   \n",
       "4                                                1.0   \n",
       "\n",
       "   parks_percent_change_from_baseline  \\\n",
       "0                                26.0   \n",
       "1                                13.0   \n",
       "2                                 9.0   \n",
       "3                                 5.0   \n",
       "4                                11.0   \n",
       "\n",
       "   transit_stations_percent_change_from_baseline  \\\n",
       "0                                            8.0   \n",
       "1                                            5.0   \n",
       "2                                            3.0   \n",
       "3                                            4.0   \n",
       "4                                            2.0   \n",
       "\n",
       "   workplaces_percent_change_from_baseline  \\\n",
       "0                                      0.0   \n",
       "1                                     -1.0   \n",
       "2                                      3.0   \n",
       "3                                      3.0   \n",
       "4                                      3.0   \n",
       "\n",
       "   residential_percent_change_from_baseline  \n",
       "0                                      -2.0  \n",
       "1                                      -2.0  \n",
       "2                                      -1.0  \n",
       "3                                       0.0  \n",
       "4                                      -1.0  "
      ]
     },
     "execution_count": 4,
     "metadata": {},
     "output_type": "execute_result"
    }
   ],
   "source": [
    "df_google['date'] = pd.to_datetime(df_google['date'])\n",
    "df_google.head()"
   ]
  },
  {
   "cell_type": "code",
   "execution_count": 5,
   "metadata": {},
   "outputs": [],
   "source": [
    "df_google.drop(['metro_area', 'census_fips_code'], axis = 1, inplace= True)"
   ]
  },
  {
   "cell_type": "code",
   "execution_count": 6,
   "metadata": {},
   "outputs": [],
   "source": [
    "# df_google['country_region'] = df_google['country_region'].replace('Spain', 'España')\n",
    "# df_google.loc[df_google['sub_region_1'].isnull(), 'sub_region_1'] = df_google['country_region']"
   ]
  },
  {
   "cell_type": "code",
   "execution_count": 7,
   "metadata": {},
   "outputs": [],
   "source": [
    "# comunidades = ['Andalusia': 'Andalucía', 'Aragon': 'Aragón', ]"
   ]
  },
  {
   "cell_type": "code",
   "execution_count": 8,
   "metadata": {},
   "outputs": [],
   "source": [
    "provincias_unicas = {'España': 'España', 'Asturias': 'Asturias', 'Balearic Islands': 'Mallorca', 'Cantabria': 'Santander', 'Ceuta': 'Ceuta', 'Community of Madrid': 'Madrid', 'La Rioja': 'La Rioja', 'Navarre': 'Navarra', 'Melilla': 'Melilla', 'Region of Murcia': 'Murcia'}"
   ]
  },
  {
   "cell_type": "code",
   "execution_count": 9,
   "metadata": {},
   "outputs": [
    {
     "data": {
      "text/plain": [
       "array([nan, 'Andalusia', 'Aragon', 'Asturias', 'Balearic Islands',\n",
       "       'Basque Country', 'Canary Islands', 'Cantabria',\n",
       "       'Castile and León', 'Castile-La Mancha', 'Catalonia', 'Ceuta',\n",
       "       'Community of Madrid', 'Extremadura', 'Galicia', 'La Rioja',\n",
       "       'Melilla', 'Navarre', 'Region of Murcia', 'Valencian Community'],\n",
       "      dtype=object)"
      ]
     },
     "execution_count": 9,
     "metadata": {},
     "output_type": "execute_result"
    }
   ],
   "source": [
    "df_google['sub_region_1'].unique()"
   ]
  },
  {
   "cell_type": "code",
   "execution_count": 10,
   "metadata": {},
   "outputs": [],
   "source": [
    "# Aquí vamos a rellenar los nulos que corresponden a las comunidades que no tienen más que una provincia, ya que el data set no los rellena.\n",
    "df_google['sub_region_2'] = df_google.apply(lambda row: provincias_unicas.get(row['sub_region_1'], row['sub_region_2']) if pd.isnull(row['sub_region_2']) else row['sub_region_2'], axis=1)"
   ]
  },
  {
   "cell_type": "code",
   "execution_count": 11,
   "metadata": {},
   "outputs": [
    {
     "data": {
      "text/plain": [
       "array([nan, 'Almería', 'Cádiz', 'Córdoba', 'Granada', 'Huelva', 'Jaén',\n",
       "       'Málaga', 'Seville', 'Huesca', 'Teruel', 'Zaragoza', 'Asturias',\n",
       "       'Mallorca', 'Álava', 'Biscay', 'Gipuzkoa', 'Las Palmas',\n",
       "       'Santa Cruz de Tenerife', 'Santander', 'Ávila', 'Burgos', 'León',\n",
       "       'Palencia', 'Salamanca', 'Segovia', 'Soria', 'Valladolid',\n",
       "       'Zamora', 'Albacete', 'Ciudad Real', 'Cuenca', 'Guadalajara',\n",
       "       'Toledo', 'Barcelona', 'Girona', 'Lleida', 'Tarragona', 'Ceuta',\n",
       "       'Madrid', 'Badajoz', 'Cáceres', 'A Coruña', 'Lugo', 'Pontevedra',\n",
       "       'Province of Ourense', 'La Rioja', 'Melilla', 'Navarra', 'Murcia',\n",
       "       'Alicante', 'Castellón', 'Valencia'], dtype=object)"
      ]
     },
     "execution_count": 11,
     "metadata": {},
     "output_type": "execute_result"
    }
   ],
   "source": [
    "df_google['sub_region_2'].unique()"
   ]
  },
  {
   "cell_type": "code",
   "execution_count": 12,
   "metadata": {},
   "outputs": [],
   "source": [
    "# Descubro que hay datos agregados tanto des España como de de las comunidades autónomas. Pero al no tener manera de separarlos provincias, \n",
    "# y tener lo datos de la tabla del covid por provincias ya haré yo los agregados. Por tanto prescindo de esas filas.\n",
    "df_google.dropna(subset = ['sub_region_2'], inplace=True)"
   ]
  },
  {
   "cell_type": "code",
   "execution_count": 13,
   "metadata": {},
   "outputs": [
    {
     "data": {
      "text/plain": [
       "array(['Almería', 'Cádiz', 'Córdoba', 'Granada', 'Huelva', 'Jaén',\n",
       "       'Málaga', 'Sevilla', 'Huesca', 'Teruel', 'Zaragoza', 'Asturias',\n",
       "       'Mallorca', 'Álava', 'Bizkaia', 'Gipuzkoa', 'Las Palmas',\n",
       "       'Santa Cruz de Tenerife', 'Santander', 'Ávila', 'Burgos', 'León',\n",
       "       'Palencia', 'Salamanca', 'Segovia', 'Soria', 'Valladolid',\n",
       "       'Zamora', 'Albacete', 'Ciudad Real', 'Cuenca', 'Guadalajara',\n",
       "       'Toledo', 'Barcelona', 'Girona', 'Lleida', 'Tarragona', 'Ceuta',\n",
       "       'Madrid', 'Badajoz', 'Cáceres', 'A Coruña', 'Lugo', 'Pontevedra',\n",
       "       'Orense', 'La Rioja', 'Melilla', 'Navarra', 'Murcia', 'Alicante',\n",
       "       'Castellón', 'Valencia'], dtype=object)"
      ]
     },
     "execution_count": 13,
     "metadata": {},
     "output_type": "execute_result"
    }
   ],
   "source": [
    "# Observamos que el df tiene erratas como province of Ourense, o pone Seville, en inglés.\n",
    "df_google['sub_region_2'] = df_google['sub_region_2'].replace('Province of Ourense', 'Orense')\n",
    "df_google['sub_region_2'] = df_google['sub_region_2'].replace('Seville', 'Sevilla')\n",
    "df_google['sub_region_2'] = df_google['sub_region_2'].replace('Biscay', 'Bizkaia')\n",
    "df_google['sub_region_2'].unique()"
   ]
  },
  {
   "cell_type": "code",
   "execution_count": 14,
   "metadata": {},
   "outputs": [],
   "source": [
    "provincias_abreviaturas = {\n",
    "    'Álava': 'VI',\n",
    "    'Albacete': 'AB',\n",
    "    'Alicante': 'A',\n",
    "    'Almería': 'AL',\n",
    "    'Asturias': 'O',\n",
    "    'Ávila': 'AV',\n",
    "    'Badajoz': 'BA',\n",
    "    'Barcelona': 'B',\n",
    "    'Burgos': 'BU',\n",
    "    'Cáceres': 'CC',\n",
    "    'Cádiz': 'CA',\n",
    "    'Santander': 'S',\n",
    "    'Castellón': 'CS',\n",
    "    'Ciudad Real': 'CR',\n",
    "    'Córdoba': 'CO',\n",
    "    'Cuenca': 'CU',\n",
    "    'Girona': 'GI',\n",
    "    'Granada': 'GR',\n",
    "    'Guadalajara': 'GU',\n",
    "    'Gipuzkoa': 'SS',\n",
    "    'Huelva': 'H',\n",
    "    'Huesca': 'HU',\n",
    "    'Mallorca': 'PM',\n",
    "    'Jaén': 'J',\n",
    "    'A Coruña': 'C',\n",
    "    'La Rioja': 'LO',\n",
    "    'Las Palmas': 'GC',\n",
    "    'León': 'LE',\n",
    "    'Lleida': 'L',\n",
    "    'Lugo': 'LU',\n",
    "    'Madrid': 'M',\n",
    "    'Málaga': 'MA',\n",
    "    'Murcia': 'MU',\n",
    "    'Navarra': 'NC',\n",
    "    'Orense': 'OR',\n",
    "    'Palencia': 'P',\n",
    "    'Pontevedra': 'PO',\n",
    "    'Salamanca': 'SA',\n",
    "    'Segovia': 'SG',\n",
    "    'Sevilla': 'SE',\n",
    "    'Soria': 'SO',\n",
    "    'Tarragona': 'T',\n",
    "    'Santa Cruz de Tenerife': 'TF',\n",
    "    'Teruel': 'TE',\n",
    "    'Toledo': 'TO',\n",
    "    'Valencia': 'V',\n",
    "    'Valladolid': 'VA',\n",
    "    'Bizkaia': 'BI',\n",
    "    'Zamora': 'ZA',\n",
    "    'Zaragoza': 'Z',\n",
    "    'Ceuta': 'CE',\n",
    "    'Melilla': 'ML'\n",
    "}"
   ]
  },
  {
   "cell_type": "code",
   "execution_count": 15,
   "metadata": {},
   "outputs": [
    {
     "data": {
      "text/plain": [
       "array(['AL', 'CA', 'CO', 'GR', 'H', 'J', 'MA', 'SE', 'HU', 'TE', 'Z', 'O',\n",
       "       'PM', 'VI', 'BI', 'SS', 'GC', 'TF', 'S', 'AV', 'BU', 'LE', 'P',\n",
       "       'SA', 'SG', 'SO', 'VA', 'ZA', 'AB', 'CR', 'CU', 'GU', 'TO', 'B',\n",
       "       'GI', 'L', 'T', 'CE', 'M', 'BA', 'CC', 'C', 'LU', 'PO', 'OR', 'LO',\n",
       "       'ML', 'NC', 'MU', 'A', 'CS', 'V'], dtype=object)"
      ]
     },
     "execution_count": 15,
     "metadata": {},
     "output_type": "execute_result"
    }
   ],
   "source": [
    "df_google['provincia_iso_g'] = df_google['sub_region_2'].map(provincias_abreviaturas)\n",
    "df_google['provincia_iso_g'].unique()"
   ]
  },
  {
   "cell_type": "code",
   "execution_count": 16,
   "metadata": {},
   "outputs": [
    {
     "data": {
      "text/plain": [
       "52"
      ]
     },
     "execution_count": 16,
     "metadata": {},
     "output_type": "execute_result"
    }
   ],
   "source": [
    "df_google['provincia_iso_g'].nunique()"
   ]
  },
  {
   "cell_type": "code",
   "execution_count": 17,
   "metadata": {},
   "outputs": [
    {
     "data": {
      "text/plain": [
       "date\n",
       "2020-02-15    1\n",
       "2021-10-19    1\n",
       "2021-11-20    1\n",
       "2021-11-21    1\n",
       "2021-11-22    1\n",
       "             ..\n",
       "2021-01-14    1\n",
       "2021-01-15    1\n",
       "2021-01-16    1\n",
       "2021-01-17    1\n",
       "2022-10-15    1\n",
       "Name: count, Length: 967, dtype: int64"
      ]
     },
     "execution_count": 17,
     "metadata": {},
     "output_type": "execute_result"
    }
   ],
   "source": [
    "df_google.loc[df_google['sub_region_2'] == 'Ceuta', 'date'].value_counts(dropna=False)"
   ]
  },
  {
   "cell_type": "code",
   "execution_count": 18,
   "metadata": {},
   "outputs": [
    {
     "name": "stdout",
     "output_type": "stream",
     "text": [
      "<class 'pandas.core.frame.DataFrame'>\n",
      "Index: 50635 entries, 642 to 61348\n",
      "Data columns (total 14 columns):\n",
      " #   Column                                              Non-Null Count  Dtype         \n",
      "---  ------                                              --------------  -----         \n",
      " 0   country_region_code                                 50635 non-null  object        \n",
      " 1   country_region                                      50635 non-null  object        \n",
      " 2   sub_region_1                                        50635 non-null  object        \n",
      " 3   sub_region_2                                        50635 non-null  object        \n",
      " 4   iso_3166_2_code                                     50635 non-null  object        \n",
      " 5   place_id                                            50635 non-null  object        \n",
      " 6   date                                                50635 non-null  datetime64[ns]\n",
      " 7   retail_and_recreation_percent_change_from_baseline  50579 non-null  float64       \n",
      " 8   grocery_and_pharmacy_percent_change_from_baseline   50073 non-null  float64       \n",
      " 9   parks_percent_change_from_baseline                  50330 non-null  float64       \n",
      " 10  transit_stations_percent_change_from_baseline       48941 non-null  float64       \n",
      " 11  workplaces_percent_change_from_baseline             50593 non-null  float64       \n",
      " 12  residential_percent_change_from_baseline            50200 non-null  float64       \n",
      " 13  provincia_iso_g                                     50635 non-null  object        \n",
      "dtypes: datetime64[ns](1), float64(6), object(7)\n",
      "memory usage: 5.8+ MB\n"
     ]
    }
   ],
   "source": [
    "df_google.info()"
   ]
  },
  {
   "cell_type": "code",
   "execution_count": 19,
   "metadata": {},
   "outputs": [],
   "source": [
    "def unique_values_in_rows(df, indices, columns = None):\n",
    "    \"\"\"\n",
    "    Muestra los valores únicos en las filas especificadas para las columnas dadas.\n",
    "\n",
    "    :param df: DataFrame de Pandas.\n",
    "    :param indices: Lista de índices de las filas.\n",
    "    :param columns: Lista de columnas para mostrar valores únicos.\n",
    "    :return: Un diccionario con los valores únicos para cada columna.\n",
    "    \"\"\"\n",
    "    if columns is None:\n",
    "        columns = df.columns\n",
    "    unique_values = {}\n",
    "    for column in columns:\n",
    "        # Filtrar por los índices dados y luego extraer valores únicos para la columna\n",
    "        unique_values[column] = df.loc[indices, column].unique()\n",
    "    return unique_values"
   ]
  },
  {
   "cell_type": "code",
   "execution_count": 20,
   "metadata": {},
   "outputs": [
    {
     "name": "stdout",
     "output_type": "stream",
     "text": [
      "{   'country_region': array(['Spain'], dtype=object),\n",
      "    'country_region_code': array(['ES'], dtype=object),\n",
      "    'date': <DatetimeArray>\n",
      "['2020-08-17 00:00:00', '2020-08-18 00:00:00', '2020-08-19 00:00:00',\n",
      " '2020-08-20 00:00:00', '2020-08-21 00:00:00', '2020-08-22 00:00:00',\n",
      " '2020-08-23 00:00:00', '2020-08-24 00:00:00', '2020-08-25 00:00:00',\n",
      " '2020-08-26 00:00:00',\n",
      " ...\n",
      " '2022-10-06 00:00:00', '2022-10-07 00:00:00', '2022-10-08 00:00:00',\n",
      " '2022-10-09 00:00:00', '2022-10-10 00:00:00', '2022-10-11 00:00:00',\n",
      " '2022-10-12 00:00:00', '2022-10-13 00:00:00', '2022-10-14 00:00:00',\n",
      " '2022-10-15 00:00:00']\n",
      "Length: 963, dtype: datetime64[ns],\n",
      "    'grocery_and_pharmacy_percent_change_from_baseline': array([ 45.,  41.,  37.,  36.,  30.,  22., 123.,  32.,  33.,  26.,  25.,\n",
      "        19.,  87.,  21.,  24.,  18.,  13.,  15.,  80.,  23.,  -7.,  20.,\n",
      "        16.,  61.,  54.,  43.,  38.,  28.,  nan,  35.,  31.,  12.,   3.,\n",
      "         9.,   8.,  14., -62., -85., -61., -86., -73., -95., -51., -84.,\n",
      "        27.,  17.,   7.,  10.,   4.,   1., -10.,   2.,  85.,  65.,  57.,\n",
      "        53.,  42.,  29.,  11.,  -5.,   6.,  -3.,  -4.,   5.,  52., -49.,\n",
      "        58., -80.,  46.,  -1.,   0., -13.,  -8.,  -2.,  -6., -14., -12.,\n",
      "        -9., -18., -17., -46., -53., -59., -60., -65., -78., -64., -71.,\n",
      "       -68., -63., -66., -67., -82., -45., -52., -54., -70., -56., -83.,\n",
      "       -37., -44., -43., -57., -31., -40., -35., -30., -29., -20., -34.,\n",
      "       -24., -21., -23., -25., -22., -15., -19., -16., -11., -26., -28.,\n",
      "       -36., -75.,  47.,  34., -58., -89., -48., -27., -38., -39., -41.,\n",
      "       -69.,  99.]),\n",
      "    'iso_3166_2_code': array(['ES-H', 'ES-HU', 'ES-TE', 'ES-AV', 'ES-BU', 'ES-P', 'ES-SG',\n",
      "       'ES-SO', 'ES-ZA', 'ES-CR', 'ES-CU', 'ES-GU', 'ES-CE', 'ES-CC',\n",
      "       'ES-LU', 'ES-OR', 'ES-RI', 'ES-ML'], dtype=object),\n",
      "    'parks_percent_change_from_baseline': array([166., 181., 190., 182., 150., 143., 109., 151., 157., 163., 153.,\n",
      "       115.,  98.,  66.,  81.,  76.,  82.,  87.,  80.,  91.,  64.,  83.,\n",
      "        86.,  65.,  nan, 134., 111., 248., -86., -90., -87., -91., -79.,\n",
      "       -85., -92.,  54.,  20.,   8., 101.,  73., 125., 131.,  67., 106.,\n",
      "        79.,  70.,  84.,  62.,  26.,  77.,  46.,  11.,  35.,  51.,  42.,\n",
      "        33.,  44.,  12.,  28.,  47.,  34., -78.,  71.,  43.,  52.,  68.,\n",
      "        22.,  13.,  19.,   2.,  78.,  69.,  58.,  50.,   3.,  10.,  -8.,\n",
      "       -12., -20., -10.,  -2.,  -4.,  18.,  39., -14.,  -3., -15.,  23.,\n",
      "        -7.,   0., -37., -52., -81., -80., -82., -83., -88., -89., -84.,\n",
      "       -77., -58., -57., -53., -56., -62., -75., -45., -61., -47., -43.,\n",
      "       -36., -41., -42., -38., -21., -26., -31., -32., -18., -22.,  -6.,\n",
      "       -35., -33., -11.,   6., -28.,  -1.,   5.,  25.,  21.,  15.,  16.,\n",
      "         7.,  14.,   9.,  -5.,  17.,  24.,  32.,  -9., -29., -19., -16.,\n",
      "       -39., -17., -13., -23., -25., -27., -24., -34., -30., -54., -50.,\n",
      "       -60., 100., 110.,  97.,  92.,  72.,  45.,  40.,  37.,  49.,  36.,\n",
      "       117., 142., 127., 169., 121., 124., 146., 137.,  61.,  53.,  31.,\n",
      "        60.,  41.,  38.,  27.,  48.,   4.,  29., -49., -55., -51., -40.,\n",
      "       -44., -66.,   1., -48.,  30., -46., -67., 272., 112., 104., 113.,\n",
      "       114.,  63.]),\n",
      "    'place_id': array(['ChIJiYiy9MW-EQ0RgMqfjP1jBAM', 'ChIJtwOaTjZxWA0RkMrNCGWMAQM',\n",
      "       'ChIJnUpflihYXg0R8MvNCGWMAQM', 'ChIJj6yPsjuEQA0RgMnzWgeHBQM',\n",
      "       'ChIJ9ZsJuUntRQ0RwMnzWgeHBQM', 'ChIJJTy9az_URw0RUMvzWgeHBQM',\n",
      "       'ChIJr5ElYupOQQ0RsMvzWgeHBQM', 'ChIJo_8KEwbHRA0R0MvzWgeHBQM',\n",
      "       'ChIJJZxKNg10OQ0RQMzzWgeHBQM', 'ChIJ6_wEDsndaw0RAMpLvvNAAwM',\n",
      "       'ChIJPaBPpUf1Zw0RMMpLvvNAAwM', 'ChIJl9C4p3cuQw0RYMpLvvNAAwM',\n",
      "       'ChIJN4t3-cajDA0RNeZ62srbpWo', 'ChIJEz0HKNv5FQ0R0MmfjP1jBAM',\n",
      "       'ChIJU82ZLkW2MQ0R4MrJc4L1BAM', 'ChIJ3VJ27lykOg0RMMvJc4L1BAM',\n",
      "       'ChIJu9z3TpJLRQ0Rjimbpl76f3g', 'ChIJ15UT1nAFdw0RXoC3ZazsjF8'],\n",
      "      dtype=object),\n",
      "    'provincia_iso_g': array(['H', 'HU', 'TE', 'AV', 'BU', 'P', 'SG', 'SO', 'ZA', 'CR', 'CU',\n",
      "       'GU', 'CE', 'CC', 'LU', 'OR', 'LO', 'ML'], dtype=object),\n",
      "    'residential_percent_change_from_baseline': array([ 4.,  3.,  6.,  2.,  0.,  5.,  1., -3., -2., -1., -4., 25., 21.,\n",
      "       26., 22., 32., 40., -5.,  7., -6.,  8., nan, 12., 11., 13., 16.,\n",
      "       10.,  9., 14., 19., 20., 23., 17., -9., 15.]),\n",
      "    'retail_and_recreation_percent_change_from_baseline': array([ 39.,  40.,  36.,  20.,  14.,  16.,  28.,  26.,  10.,   4.,  12.,\n",
      "        13.,   9.,   8.,   7.,  18.,  -3.,  11.,  29.,  24.,   1.,   6.,\n",
      "        -2.,  -9.,  -4., -10., -12., -15., -11.,   0.,  32., -92., -94.,\n",
      "       -95., -91., -96.,  44.,  38.,  34.,  23.,  15.,  31.,  -7.,   2.,\n",
      "       -18.,  -1.,  -5.,  71.,  64.,  58.,  59.,  37.,  41.,  47.,  43.,\n",
      "        21.,   5., -20.,  -8.,  25.,  22.,  -6., -19.,  nan,  19., -93.,\n",
      "        45.,  30.,  17.,  27.,   3., -23., -21.,  35., -16., -17., -27.,\n",
      "       -54., -78., -79., -82., -84., -86., -88., -87., -85., -89., -90.,\n",
      "       -83., -97., -70., -75., -74., -71., -59., -61., -62., -68., -45.,\n",
      "       -49., -47., -57., -56., -69., -42., -48., -51., -50., -60., -39.,\n",
      "       -40., -29., -35., -22., -26., -25., -13., -14., -28., -55., -30.,\n",
      "       -24., -34., -31., -33., -32., -36., -38., -80., -43., -64., -37.,\n",
      "       -46., -58., -66., -41.]),\n",
      "    'sub_region_1': array(['Andalusia', 'Aragon', 'Castile and León', 'Castile-La Mancha',\n",
      "       'Ceuta', 'Extremadura', 'Galicia', 'La Rioja', 'Melilla'],\n",
      "      dtype=object),\n",
      "    'sub_region_2': array(['Huelva', 'Huesca', 'Teruel', 'Ávila', 'Burgos', 'Palencia',\n",
      "       'Segovia', 'Soria', 'Zamora', 'Ciudad Real', 'Cuenca',\n",
      "       'Guadalajara', 'Ceuta', 'Cáceres', 'Lugo', 'Orense', 'La Rioja',\n",
      "       'Melilla'], dtype=object),\n",
      "    'transit_stations_percent_change_from_baseline': array([nan]),\n",
      "    'workplaces_percent_change_from_baseline': array([-28., -25., -27., -24.,   3.,  16., -23., -21.,   6.,  24., -17.,\n",
      "       -16., -14., -13.,   9.,  30., -30., -10., -33., -31., -32.,  -4.,\n",
      "         8., -26.,   0.,  11., -19.,  13., -22., -20.,   1., -61., -65.,\n",
      "       -63., -67., -82., -87., -64., -29.,  -2.,   4.,  15.,  18.,  14.,\n",
      "        26., -15., -12.,  -8.,  -9.,  23.,  46.,  -1., -38., -35., -34.,\n",
      "        10.,  -3., -46., -18.,  38., -11.,  nan, -56.,   7.,  17.,  20.,\n",
      "        -7.,  -5.,   5.,  12.,   2., -52., -58., -62., -66., -68., -69.,\n",
      "       -70., -71., -86., -60., -84., -51., -57., -54., -50., -49., -48.,\n",
      "       -44., -43., -42., -37.,  -6., -36., -72., -53., -73., -40., -45.,\n",
      "       -59., -85., -74., -39., -41., -75., -47.])}\n"
     ]
    }
   ],
   "source": [
    "pp.pprint(unique_values_in_rows(df_google,df_google[df_google['transit_stations_percent_change_from_baseline'].isna()].index.tolist()))"
   ]
  },
  {
   "cell_type": "code",
   "execution_count": 21,
   "metadata": {},
   "outputs": [
    {
     "data": {
      "text/plain": [
       "array([ 45.,  18.,  16.,   8.,  11.,  34.,  49.,  29.,  28.,  17.,  15.,\n",
       "        22.,  31.,  14.,  13.,  10.,  32.,  44.,  25.,  19.,  12.,  -2.,\n",
       "       -32., -66., -58., -65., -64., -68., -77., -82., -69., -73., -72.,\n",
       "       -70., -76., -85., -71., -78., -81., -74., -83., -67., -75., -62.,\n",
       "       -63., -54., -43., -45., -47., -59., -31., -40., -49., -42., -46.,\n",
       "       -28., -35., -34., -36., -21., -24., -25., -23., -18., -17., -26.,\n",
       "       -27., -19., -12., -16., -13.,  -5., -15., -20., -10.,   6.,  -8.,\n",
       "        -3.,  -7.,  -1.,   3.,   5.,   7.,  20.,  35.,  36.,   9.,  24.,\n",
       "        23.,  47.,  38.,  40.,  37.,  43.,  48.,  nan,   2.,  30.,   0.,\n",
       "        26.,  21.,  -4., -14.,  -9.,   1.,  -6.,   4., -37., -11., -33.,\n",
       "       -38., -30., -39.,  27.,  33.,  46.,  53.,  52.,  39.,  54.,  42.,\n",
       "        57.,  56.,  41.,  61.,  51.,  50.,  74.,  68.,  62.,  63.,  60.,\n",
       "        67.,  58.,  73.,  84.,  64.,  93.,  99.,  96., 105.,  87., 106.,\n",
       "       100.,  95., 104., 107.,  85., 103.,  97.,  91.,  77.,  83.,  82.,\n",
       "        88.,  76.,  66.,  69.,  55.,  72.,  65.,  59.,  70.,  75.,  71.,\n",
       "        98.,  92.,  78.,  80.,  81.,  79., 124., 173., 150., 118., 101.,\n",
       "       108.,  89.,  94., 111., 114., 125., 112., 102., 127., 122., 128.,\n",
       "       140., 117.,  86., 130., 110., 116., 134., 120., 121.,  90., 131.,\n",
       "       113., 129.])"
      ]
     },
     "execution_count": 21,
     "metadata": {},
     "output_type": "execute_result"
    }
   ],
   "source": [
    "df_google.loc[df_google['sub_region_2'] == 'Huelva', 'transit_stations_percent_change_from_baseline'].unique()"
   ]
  },
  {
   "cell_type": "code",
   "execution_count": 22,
   "metadata": {},
   "outputs": [],
   "source": [
    "df_covid19 = pd.read_csv('casos_hosp_uci_def_sexo_edad_provres.csv')\n",
    "# a = (df_covid19['fecha'] == '2020-03-20')\n",
    "# b = (df_covid19['provincia_iso'] == 'M')\n",
    "# ab = df_covid19[a & b]\n",
    "# ab"
   ]
  },
  {
   "cell_type": "code",
   "execution_count": 23,
   "metadata": {},
   "outputs": [
    {
     "data": {
      "text/plain": [
       "provincia_iso\n",
       "A      24510\n",
       "M      24510\n",
       "ML     24510\n",
       "MU     24510\n",
       "NaN    24510\n",
       "NC     24510\n",
       "O      24510\n",
       "OR     24510\n",
       "P      24510\n",
       "PM     24510\n",
       "PO     24510\n",
       "S      24510\n",
       "SA     24510\n",
       "SE     24510\n",
       "SG     24510\n",
       "SO     24510\n",
       "SS     24510\n",
       "T      24510\n",
       "TE     24510\n",
       "TF     24510\n",
       "TO     24510\n",
       "V      24510\n",
       "VA     24510\n",
       "VI     24510\n",
       "Z      24510\n",
       "MA     24510\n",
       "LU     24510\n",
       "AB     24510\n",
       "LO     24510\n",
       "AL     24510\n",
       "AV     24510\n",
       "B      24510\n",
       "BA     24510\n",
       "BI     24510\n",
       "BU     24510\n",
       "C      24510\n",
       "CA     24510\n",
       "CC     24510\n",
       "CE     24510\n",
       "CO     24510\n",
       "CR     24510\n",
       "CS     24510\n",
       "CU     24510\n",
       "GC     24510\n",
       "GI     24510\n",
       "GR     24510\n",
       "GU     24510\n",
       "H      24510\n",
       "HU     24510\n",
       "J      24510\n",
       "L      24510\n",
       "LE     24510\n",
       "ZA     24510\n",
       "Name: count, dtype: int64"
      ]
     },
     "execution_count": 23,
     "metadata": {},
     "output_type": "execute_result"
    }
   ],
   "source": [
    "df_covid19['provincia_iso'].value_counts(dropna = False)"
   ]
  },
  {
   "cell_type": "code",
   "execution_count": 24,
   "metadata": {},
   "outputs": [
    {
     "data": {
      "text/plain": [
       "count    24510.000000\n",
       "mean        11.675071\n",
       "std         27.909340\n",
       "min          0.000000\n",
       "25%          0.000000\n",
       "50%          0.000000\n",
       "75%         11.000000\n",
       "max        462.000000\n",
       "Name: num_casos, dtype: float64"
      ]
     },
     "execution_count": 24,
     "metadata": {},
     "output_type": "execute_result"
    }
   ],
   "source": [
    "df_covid19.loc[df_covid19['provincia_iso'] == 'SE', 'num_casos'].describe()"
   ]
  },
  {
   "cell_type": "code",
   "execution_count": 25,
   "metadata": {},
   "outputs": [
    {
     "name": "stdout",
     "output_type": "stream",
     "text": [
      "<class 'pandas.core.frame.DataFrame'>\n",
      "RangeIndex: 1299030 entries, 0 to 1299029\n",
      "Data columns (total 8 columns):\n",
      " #   Column         Non-Null Count    Dtype \n",
      "---  ------         --------------    ----- \n",
      " 0   provincia_iso  1274520 non-null  object\n",
      " 1   sexo           1299030 non-null  object\n",
      " 2   grupo_edad     1299030 non-null  object\n",
      " 3   fecha          1299030 non-null  object\n",
      " 4   num_casos      1299030 non-null  int64 \n",
      " 5   num_hosp       1299030 non-null  int64 \n",
      " 6   num_uci        1299030 non-null  int64 \n",
      " 7   num_def        1299030 non-null  int64 \n",
      "dtypes: int64(4), object(4)\n",
      "memory usage: 79.3+ MB\n"
     ]
    }
   ],
   "source": [
    "df_covid19.info()"
   ]
  },
  {
   "cell_type": "code",
   "execution_count": 26,
   "metadata": {},
   "outputs": [],
   "source": [
    "# Como hemos visto hay un número de NAN en la columna provincia_iso. Además para este valor, tenemos los mismo valores que para una provincia real. Y aquí comprobamos\n",
    "# que tiene valores, que se contabilizan. Entendemos que son personas que no estaban asociadas a ninguna provincia en concreto. Y las contaremos para el computo total.\n",
    "# Por tanto le asignaremos el valor \"SP\", de \"Sin Procinvia\", a estos valores nulos de la columna provincia_iso.\n",
    "# filas_nulas = df_covid19[df_covid19['provincia_iso'].isnull()]\n",
    "# filas_nulas['num_casos'].describe()\n",
    "# df_covid19['provincia_iso'] = df_covid19.loc[df_covid19['provincia_iso'].isnull(), 'provincia_iso'].replace('', 'SP')\n",
    "# df_covid19['provincia_iso'].unique()\n",
    "\n",
    "# Esto al final no se hizo."
   ]
  },
  {
   "cell_type": "code",
   "execution_count": 27,
   "metadata": {},
   "outputs": [],
   "source": [
    "# Vamos a prescindir de estos datos ya que todos los datos que queremos tienen que estar asociados a una provincia.\n",
    "df_covid19 = df_covid19.dropna(subset=['provincia_iso'])"
   ]
  },
  {
   "cell_type": "code",
   "execution_count": 28,
   "metadata": {},
   "outputs": [
    {
     "name": "stdout",
     "output_type": "stream",
     "text": [
      "<class 'pandas.core.frame.DataFrame'>\n",
      "Index: 1274520 entries, 0 to 1299029\n",
      "Data columns (total 8 columns):\n",
      " #   Column         Non-Null Count    Dtype         \n",
      "---  ------         --------------    -----         \n",
      " 0   provincia_iso  1274520 non-null  object        \n",
      " 1   sexo           1274520 non-null  object        \n",
      " 2   grupo_edad     1274520 non-null  object        \n",
      " 3   fecha          1274520 non-null  datetime64[ns]\n",
      " 4   num_casos      1274520 non-null  int64         \n",
      " 5   num_hosp       1274520 non-null  int64         \n",
      " 6   num_uci        1274520 non-null  int64         \n",
      " 7   num_def        1274520 non-null  int64         \n",
      "dtypes: datetime64[ns](1), int64(4), object(3)\n",
      "memory usage: 87.5+ MB\n"
     ]
    }
   ],
   "source": [
    "df_covid19['fecha'] = pd.to_datetime(df_covid19['fecha'])\n",
    "df_covid19.info()"
   ]
  },
  {
   "cell_type": "code",
   "execution_count": 29,
   "metadata": {},
   "outputs": [],
   "source": [
    "merged_df = pd.merge(df_covid19, df_google, left_on=['fecha', 'provincia_iso'], right_on=['date', 'provincia_iso_g'], how='left')"
   ]
  },
  {
   "cell_type": "code",
   "execution_count": 30,
   "metadata": {},
   "outputs": [
    {
     "name": "stdout",
     "output_type": "stream",
     "text": [
      "<class 'pandas.core.frame.DataFrame'>\n",
      "RangeIndex: 1274520 entries, 0 to 1274519\n",
      "Data columns (total 22 columns):\n",
      " #   Column                                              Non-Null Count    Dtype         \n",
      "---  ------                                              --------------    -----         \n",
      " 0   provincia_iso                                       1274520 non-null  object        \n",
      " 1   sexo                                                1274520 non-null  object        \n",
      " 2   grupo_edad                                          1274520 non-null  object        \n",
      " 3   fecha                                               1274520 non-null  datetime64[ns]\n",
      " 4   num_casos                                           1274520 non-null  int64         \n",
      " 5   num_hosp                                            1274520 non-null  int64         \n",
      " 6   num_uci                                             1274520 non-null  int64         \n",
      " 7   num_def                                             1274520 non-null  int64         \n",
      " 8   country_region_code                                 1203930 non-null  object        \n",
      " 9   country_region                                      1203930 non-null  object        \n",
      " 10  sub_region_1                                        1203930 non-null  object        \n",
      " 11  sub_region_2                                        1203930 non-null  object        \n",
      " 12  iso_3166_2_code                                     1203930 non-null  object        \n",
      " 13  place_id                                            1203930 non-null  object        \n",
      " 14  date                                                1203930 non-null  datetime64[ns]\n",
      " 15  retail_and_recreation_percent_change_from_baseline  1202250 non-null  float64       \n",
      " 16  grocery_and_pharmacy_percent_change_from_baseline   1190160 non-null  float64       \n",
      " 17  parks_percent_change_from_baseline                  1194780 non-null  float64       \n",
      " 18  transit_stations_percent_change_from_baseline       1163100 non-null  float64       \n",
      " 19  workplaces_percent_change_from_baseline             1202670 non-null  float64       \n",
      " 20  residential_percent_change_from_baseline            1192560 non-null  float64       \n",
      " 21  provincia_iso_g                                     1203930 non-null  object        \n",
      "dtypes: datetime64[ns](2), float64(6), int64(4), object(10)\n",
      "memory usage: 213.9+ MB\n"
     ]
    }
   ],
   "source": [
    "merged_df.info()"
   ]
  },
  {
   "cell_type": "code",
   "execution_count": 31,
   "metadata": {},
   "outputs": [],
   "source": [
    "merged_df.to_csv('eda.csv')"
   ]
  },
  {
   "cell_type": "code",
   "execution_count": 35,
   "metadata": {},
   "outputs": [],
   "source": [
    "chunksize = 300 * 1024  # Tamaño máximo por fragmento (25MB)\n",
    "i = 1\n",
    "\n",
    "for chunk in pd.read_csv('eda.csv', chunksize=chunksize, low_memory= False):\n",
    "    chunk.to_csv(f'eda_part_{i}.csv', index=False)\n",
    "    i += 1"
   ]
  },
  {
   "cell_type": "code",
   "execution_count": null,
   "metadata": {},
   "outputs": [],
   "source": []
  }
 ],
 "metadata": {
  "kernelspec": {
   "display_name": "Python 3",
   "language": "python",
   "name": "python3"
  },
  "language_info": {
   "codemirror_mode": {
    "name": "ipython",
    "version": 3
   },
   "file_extension": ".py",
   "mimetype": "text/x-python",
   "name": "python",
   "nbconvert_exporter": "python",
   "pygments_lexer": "ipython3",
   "version": "3.11.4"
  }
 },
 "nbformat": 4,
 "nbformat_minor": 2
}
