{
 "cells": [
  {
   "cell_type": "code",
   "execution_count": 1,
   "metadata": {},
   "outputs": [],
   "source": [
    "import pandas as pd\n",
    "import pprint\n",
    "pp = pprint.PrettyPrinter(indent=4)"
   ]
  },
  {
   "cell_type": "code",
   "execution_count": 2,
   "metadata": {},
   "outputs": [
    {
     "data": {
      "text/html": [
       "<div>\n",
       "<style scoped>\n",
       "    .dataframe tbody tr th:only-of-type {\n",
       "        vertical-align: middle;\n",
       "    }\n",
       "\n",
       "    .dataframe tbody tr th {\n",
       "        vertical-align: top;\n",
       "    }\n",
       "\n",
       "    .dataframe thead th {\n",
       "        text-align: right;\n",
       "    }\n",
       "</style>\n",
       "<table border=\"1\" class=\"dataframe\">\n",
       "  <thead>\n",
       "    <tr style=\"text-align: right;\">\n",
       "      <th></th>\n",
       "      <th>Unnamed: 0</th>\n",
       "      <th>provincia_iso</th>\n",
       "      <th>sexo</th>\n",
       "      <th>grupo_edad</th>\n",
       "      <th>fecha</th>\n",
       "      <th>num_casos</th>\n",
       "      <th>num_hosp</th>\n",
       "      <th>num_uci</th>\n",
       "      <th>num_def</th>\n",
       "      <th>country_region_code</th>\n",
       "      <th>...</th>\n",
       "      <th>iso_3166_2_code</th>\n",
       "      <th>place_id</th>\n",
       "      <th>date</th>\n",
       "      <th>retail_and_recreation_percent_change_from_baseline</th>\n",
       "      <th>grocery_and_pharmacy_percent_change_from_baseline</th>\n",
       "      <th>parks_percent_change_from_baseline</th>\n",
       "      <th>transit_stations_percent_change_from_baseline</th>\n",
       "      <th>workplaces_percent_change_from_baseline</th>\n",
       "      <th>residential_percent_change_from_baseline</th>\n",
       "      <th>provincia_iso_g</th>\n",
       "    </tr>\n",
       "  </thead>\n",
       "  <tbody>\n",
       "    <tr>\n",
       "      <th>0</th>\n",
       "      <td>0</td>\n",
       "      <td>A</td>\n",
       "      <td>H</td>\n",
       "      <td>0-9</td>\n",
       "      <td>2020-01-01</td>\n",
       "      <td>0</td>\n",
       "      <td>0</td>\n",
       "      <td>0</td>\n",
       "      <td>0</td>\n",
       "      <td>NaN</td>\n",
       "      <td>...</td>\n",
       "      <td>NaN</td>\n",
       "      <td>NaN</td>\n",
       "      <td>NaN</td>\n",
       "      <td>NaN</td>\n",
       "      <td>NaN</td>\n",
       "      <td>NaN</td>\n",
       "      <td>NaN</td>\n",
       "      <td>NaN</td>\n",
       "      <td>NaN</td>\n",
       "      <td>NaN</td>\n",
       "    </tr>\n",
       "    <tr>\n",
       "      <th>1</th>\n",
       "      <td>1</td>\n",
       "      <td>A</td>\n",
       "      <td>H</td>\n",
       "      <td>10-19</td>\n",
       "      <td>2020-01-01</td>\n",
       "      <td>0</td>\n",
       "      <td>0</td>\n",
       "      <td>0</td>\n",
       "      <td>0</td>\n",
       "      <td>NaN</td>\n",
       "      <td>...</td>\n",
       "      <td>NaN</td>\n",
       "      <td>NaN</td>\n",
       "      <td>NaN</td>\n",
       "      <td>NaN</td>\n",
       "      <td>NaN</td>\n",
       "      <td>NaN</td>\n",
       "      <td>NaN</td>\n",
       "      <td>NaN</td>\n",
       "      <td>NaN</td>\n",
       "      <td>NaN</td>\n",
       "    </tr>\n",
       "    <tr>\n",
       "      <th>2</th>\n",
       "      <td>2</td>\n",
       "      <td>A</td>\n",
       "      <td>H</td>\n",
       "      <td>20-29</td>\n",
       "      <td>2020-01-01</td>\n",
       "      <td>0</td>\n",
       "      <td>0</td>\n",
       "      <td>0</td>\n",
       "      <td>0</td>\n",
       "      <td>NaN</td>\n",
       "      <td>...</td>\n",
       "      <td>NaN</td>\n",
       "      <td>NaN</td>\n",
       "      <td>NaN</td>\n",
       "      <td>NaN</td>\n",
       "      <td>NaN</td>\n",
       "      <td>NaN</td>\n",
       "      <td>NaN</td>\n",
       "      <td>NaN</td>\n",
       "      <td>NaN</td>\n",
       "      <td>NaN</td>\n",
       "    </tr>\n",
       "    <tr>\n",
       "      <th>3</th>\n",
       "      <td>3</td>\n",
       "      <td>A</td>\n",
       "      <td>H</td>\n",
       "      <td>30-39</td>\n",
       "      <td>2020-01-01</td>\n",
       "      <td>0</td>\n",
       "      <td>0</td>\n",
       "      <td>0</td>\n",
       "      <td>0</td>\n",
       "      <td>NaN</td>\n",
       "      <td>...</td>\n",
       "      <td>NaN</td>\n",
       "      <td>NaN</td>\n",
       "      <td>NaN</td>\n",
       "      <td>NaN</td>\n",
       "      <td>NaN</td>\n",
       "      <td>NaN</td>\n",
       "      <td>NaN</td>\n",
       "      <td>NaN</td>\n",
       "      <td>NaN</td>\n",
       "      <td>NaN</td>\n",
       "    </tr>\n",
       "    <tr>\n",
       "      <th>4</th>\n",
       "      <td>4</td>\n",
       "      <td>A</td>\n",
       "      <td>H</td>\n",
       "      <td>40-49</td>\n",
       "      <td>2020-01-01</td>\n",
       "      <td>0</td>\n",
       "      <td>0</td>\n",
       "      <td>0</td>\n",
       "      <td>0</td>\n",
       "      <td>NaN</td>\n",
       "      <td>...</td>\n",
       "      <td>NaN</td>\n",
       "      <td>NaN</td>\n",
       "      <td>NaN</td>\n",
       "      <td>NaN</td>\n",
       "      <td>NaN</td>\n",
       "      <td>NaN</td>\n",
       "      <td>NaN</td>\n",
       "      <td>NaN</td>\n",
       "      <td>NaN</td>\n",
       "      <td>NaN</td>\n",
       "    </tr>\n",
       "  </tbody>\n",
       "</table>\n",
       "<p>5 rows × 23 columns</p>\n",
       "</div>"
      ],
      "text/plain": [
       "   Unnamed: 0 provincia_iso sexo grupo_edad       fecha  num_casos  num_hosp  \\\n",
       "0           0             A    H        0-9  2020-01-01          0         0   \n",
       "1           1             A    H      10-19  2020-01-01          0         0   \n",
       "2           2             A    H      20-29  2020-01-01          0         0   \n",
       "3           3             A    H      30-39  2020-01-01          0         0   \n",
       "4           4             A    H      40-49  2020-01-01          0         0   \n",
       "\n",
       "   num_uci  num_def country_region_code  ... iso_3166_2_code place_id date  \\\n",
       "0        0        0                 NaN  ...             NaN      NaN  NaN   \n",
       "1        0        0                 NaN  ...             NaN      NaN  NaN   \n",
       "2        0        0                 NaN  ...             NaN      NaN  NaN   \n",
       "3        0        0                 NaN  ...             NaN      NaN  NaN   \n",
       "4        0        0                 NaN  ...             NaN      NaN  NaN   \n",
       "\n",
       "  retail_and_recreation_percent_change_from_baseline  \\\n",
       "0                                                NaN   \n",
       "1                                                NaN   \n",
       "2                                                NaN   \n",
       "3                                                NaN   \n",
       "4                                                NaN   \n",
       "\n",
       "  grocery_and_pharmacy_percent_change_from_baseline  \\\n",
       "0                                               NaN   \n",
       "1                                               NaN   \n",
       "2                                               NaN   \n",
       "3                                               NaN   \n",
       "4                                               NaN   \n",
       "\n",
       "  parks_percent_change_from_baseline  \\\n",
       "0                                NaN   \n",
       "1                                NaN   \n",
       "2                                NaN   \n",
       "3                                NaN   \n",
       "4                                NaN   \n",
       "\n",
       "   transit_stations_percent_change_from_baseline  \\\n",
       "0                                            NaN   \n",
       "1                                            NaN   \n",
       "2                                            NaN   \n",
       "3                                            NaN   \n",
       "4                                            NaN   \n",
       "\n",
       "   workplaces_percent_change_from_baseline  \\\n",
       "0                                      NaN   \n",
       "1                                      NaN   \n",
       "2                                      NaN   \n",
       "3                                      NaN   \n",
       "4                                      NaN   \n",
       "\n",
       "   residential_percent_change_from_baseline  provincia_iso_g  \n",
       "0                                       NaN              NaN  \n",
       "1                                       NaN              NaN  \n",
       "2                                       NaN              NaN  \n",
       "3                                       NaN              NaN  \n",
       "4                                       NaN              NaN  \n",
       "\n",
       "[5 rows x 23 columns]"
      ]
     },
     "execution_count": 2,
     "metadata": {},
     "output_type": "execute_result"
    }
   ],
   "source": [
    "# df = pd.read_csv('eda.csv', low_memory= False)\n",
    "df_1 = pd.read_csv('eda_part_1.csv', low_memory= False)\n",
    "df_2 = pd.read_csv('eda_part_2.csv', low_memory= False)\n",
    "df_3 = pd.read_csv('eda_part_3.csv', low_memory= False)\n",
    "df_4 = pd.read_csv('eda_part_4.csv', low_memory= False)\n",
    "df = pd.concat([df_1, df_2, df_3, df_4], ignore_index= True)\n",
    "df.head()"
   ]
  },
  {
   "cell_type": "code",
   "execution_count": 3,
   "metadata": {},
   "outputs": [],
   "source": [
    "df = df.drop('Unnamed: 0', axis=1)"
   ]
  },
  {
   "cell_type": "code",
   "execution_count": 4,
   "metadata": {},
   "outputs": [
    {
     "name": "stdout",
     "output_type": "stream",
     "text": [
      "<class 'pandas.core.frame.DataFrame'>\n",
      "RangeIndex: 1228800 entries, 0 to 1228799\n",
      "Data columns (total 22 columns):\n",
      " #   Column                                              Non-Null Count    Dtype  \n",
      "---  ------                                              --------------    -----  \n",
      " 0   provincia_iso                                       1228800 non-null  object \n",
      " 1   sexo                                                1228800 non-null  object \n",
      " 2   grupo_edad                                          1228800 non-null  object \n",
      " 3   fecha                                               1228800 non-null  object \n",
      " 4   num_casos                                           1228800 non-null  int64  \n",
      " 5   num_hosp                                            1228800 non-null  int64  \n",
      " 6   num_uci                                             1228800 non-null  int64  \n",
      " 7   num_def                                             1228800 non-null  int64  \n",
      " 8   country_region_code                                 1158210 non-null  object \n",
      " 9   country_region                                      1158210 non-null  object \n",
      " 10  sub_region_1                                        1158210 non-null  object \n",
      " 11  sub_region_2                                        1158210 non-null  object \n",
      " 12  iso_3166_2_code                                     1158210 non-null  object \n",
      " 13  place_id                                            1158210 non-null  object \n",
      " 14  date                                                1158210 non-null  object \n",
      " 15  retail_and_recreation_percent_change_from_baseline  1156530 non-null  float64\n",
      " 16  grocery_and_pharmacy_percent_change_from_baseline   1144920 non-null  float64\n",
      " 17  parks_percent_change_from_baseline                  1149060 non-null  float64\n",
      " 18  transit_stations_percent_change_from_baseline       1118670 non-null  float64\n",
      " 19  workplaces_percent_change_from_baseline             1156950 non-null  float64\n",
      " 20  residential_percent_change_from_baseline            1147140 non-null  float64\n",
      " 21  provincia_iso_g                                     1158210 non-null  object \n",
      "dtypes: float64(6), int64(4), object(12)\n",
      "memory usage: 206.3+ MB\n"
     ]
    }
   ],
   "source": [
    "df.info()"
   ]
  },
  {
   "cell_type": "code",
   "execution_count": 5,
   "metadata": {},
   "outputs": [
    {
     "data": {
      "text/plain": [
       "70200"
      ]
     },
     "execution_count": 5,
     "metadata": {},
     "output_type": "execute_result"
    }
   ],
   "source": [
    "primer_dato = df['sub_region_2'].first_valid_index()\n",
    "primer_dato"
   ]
  },
  {
   "cell_type": "code",
   "execution_count": 6,
   "metadata": {},
   "outputs": [],
   "source": [
    "df = df.iloc[primer_dato:]"
   ]
  },
  {
   "cell_type": "code",
   "execution_count": 7,
   "metadata": {},
   "outputs": [
    {
     "name": "stdout",
     "output_type": "stream",
     "text": [
      "<class 'pandas.core.frame.DataFrame'>\n",
      "RangeIndex: 1158600 entries, 70200 to 1228799\n",
      "Data columns (total 22 columns):\n",
      " #   Column                                              Non-Null Count    Dtype  \n",
      "---  ------                                              --------------    -----  \n",
      " 0   provincia_iso                                       1158600 non-null  object \n",
      " 1   sexo                                                1158600 non-null  object \n",
      " 2   grupo_edad                                          1158600 non-null  object \n",
      " 3   fecha                                               1158600 non-null  object \n",
      " 4   num_casos                                           1158600 non-null  int64  \n",
      " 5   num_hosp                                            1158600 non-null  int64  \n",
      " 6   num_uci                                             1158600 non-null  int64  \n",
      " 7   num_def                                             1158600 non-null  int64  \n",
      " 8   country_region_code                                 1158210 non-null  object \n",
      " 9   country_region                                      1158210 non-null  object \n",
      " 10  sub_region_1                                        1158210 non-null  object \n",
      " 11  sub_region_2                                        1158210 non-null  object \n",
      " 12  iso_3166_2_code                                     1158210 non-null  object \n",
      " 13  place_id                                            1158210 non-null  object \n",
      " 14  date                                                1158210 non-null  object \n",
      " 15  retail_and_recreation_percent_change_from_baseline  1156530 non-null  float64\n",
      " 16  grocery_and_pharmacy_percent_change_from_baseline   1144920 non-null  float64\n",
      " 17  parks_percent_change_from_baseline                  1149060 non-null  float64\n",
      " 18  transit_stations_percent_change_from_baseline       1118670 non-null  float64\n",
      " 19  workplaces_percent_change_from_baseline             1156950 non-null  float64\n",
      " 20  residential_percent_change_from_baseline            1147140 non-null  float64\n",
      " 21  provincia_iso_g                                     1158210 non-null  object \n",
      "dtypes: float64(6), int64(4), object(12)\n",
      "memory usage: 194.5+ MB\n"
     ]
    }
   ],
   "source": [
    "df.info()"
   ]
  },
  {
   "cell_type": "code",
   "execution_count": 8,
   "metadata": {},
   "outputs": [],
   "source": [
    "filas_nulas = df[df['sub_region_2'].isnull()]\n",
    "a = list(filas_nulas['provincia_iso'].unique())\n",
    "b = list(df['provincia_iso_g'].unique())"
   ]
  },
  {
   "cell_type": "code",
   "execution_count": 9,
   "metadata": {},
   "outputs": [],
   "source": [
    "def find_non_null_indices(dataframe, col1, col2):\n",
    "    \"\"\"\n",
    "    Encuentra índices de filas donde el valor en col1 es nulo y el valor en col2 no es nulo.\n",
    "\n",
    "    :param dataframe: DataFrame en el que buscar.\n",
    "    :param col1: Nombre de la primera columna para comprobar si es nulo.\n",
    "    :param col2: Nombre de la segunda columna para comprobar si no es nulo.\n",
    "    :return: Lista de índices de filas que cumplen la condición.\n",
    "    \"\"\"\n",
    "    indices = []\n",
    "    for index, row in dataframe.iterrows():\n",
    "        if pd.isna(row[col1]) and not pd.isna(row[col2]):\n",
    "            indices.append(index)\n",
    "    return indices"
   ]
  },
  {
   "cell_type": "code",
   "execution_count": 10,
   "metadata": {},
   "outputs": [
    {
     "data": {
      "text/plain": [
       "[]"
      ]
     },
     "execution_count": 10,
     "metadata": {},
     "output_type": "execute_result"
    }
   ],
   "source": [
    "find_non_null_indices(df, 'provincia_iso', 'provincia_iso_g')       # Con esto con cluimos que todas la filas con nulos en provincias_iso son también nulas en provincias_iso_g, pero y al revés?"
   ]
  },
  {
   "cell_type": "code",
   "execution_count": 11,
   "metadata": {},
   "outputs": [],
   "source": [
    "no_coinc = find_non_null_indices(df, 'provincia_iso_g', 'provincia_iso')        # Vemos que en este sentido sí hay alguno que no cuadran"
   ]
  },
  {
   "cell_type": "code",
   "execution_count": 12,
   "metadata": {},
   "outputs": [
    {
     "data": {
      "text/plain": [
       "390"
      ]
     },
     "execution_count": 12,
     "metadata": {},
     "output_type": "execute_result"
    }
   ],
   "source": [
    "len(no_coinc)"
   ]
  },
  {
   "cell_type": "code",
   "execution_count": 13,
   "metadata": {},
   "outputs": [
    {
     "data": {
      "text/plain": [
       "390"
      ]
     },
     "execution_count": 13,
     "metadata": {},
     "output_type": "execute_result"
    }
   ],
   "source": [
    "sum(df['provincia_iso'].notna()) - sum(df['provincia_iso_g'].notna())           # Vemos que el desfase entre estas dos columnas se corresponde con este hecho. Vamos a intentar averiguar a qué se debe. "
   ]
  },
  {
   "cell_type": "code",
   "execution_count": 14,
   "metadata": {},
   "outputs": [],
   "source": [
    "def unique_values_in_rows(df, indices, columns = None):\n",
    "    \"\"\"\n",
    "    Muestra los valores únicos en las filas especificadas para las columnas dadas.\n",
    "\n",
    "    :param df: DataFrame de Pandas.\n",
    "    :param indices: Lista de índices de las filas.\n",
    "    :param columns: Lista de columnas para mostrar valores únicos.\n",
    "    :return: Un diccionario con los valores únicos para cada columna.\n",
    "    \"\"\"\n",
    "    if columns is None:\n",
    "        columns = df.columns\n",
    "    unique_values = {}\n",
    "    for column in columns:\n",
    "        # Filtrar por los índices dados y luego extraer valores únicos para la columna\n",
    "        unique_values[column] = df.loc[indices, column].unique()\n",
    "    return unique_values"
   ]
  },
  {
   "cell_type": "code",
   "execution_count": 15,
   "metadata": {},
   "outputs": [
    {
     "name": "stdout",
     "output_type": "stream",
     "text": [
      "{   'country_region': array([nan], dtype=object),\n",
      "    'country_region_code': array([nan], dtype=object),\n",
      "    'date': array([nan], dtype=object),\n",
      "    'fecha': array(['2020-08-22', '2020-08-23', '2020-08-29', '2020-08-30',\n",
      "       '2020-09-02', '2020-09-05', '2020-09-06'], dtype=object),\n",
      "    'grocery_and_pharmacy_percent_change_from_baseline': array([nan]),\n",
      "    'grupo_edad': array(['0-9', '10-19', '20-29', '30-39', '40-49', '50-59', '60-69',\n",
      "       '70-79', '80+', 'NC'], dtype=object),\n",
      "    'iso_3166_2_code': array([nan], dtype=object),\n",
      "    'num_casos': array([0, 1, 2, 4, 7, 3], dtype=int64),\n",
      "    'num_def': array([0], dtype=int64),\n",
      "    'num_hosp': array([0, 1, 2], dtype=int64),\n",
      "    'num_uci': array([0], dtype=int64),\n",
      "    'parks_percent_change_from_baseline': array([nan]),\n",
      "    'place_id': array([nan], dtype=object),\n",
      "    'provincia_iso': array(['CE', 'ML'], dtype=object),\n",
      "    'provincia_iso_g': array([nan], dtype=object),\n",
      "    'residential_percent_change_from_baseline': array([nan]),\n",
      "    'retail_and_recreation_percent_change_from_baseline': array([nan]),\n",
      "    'sexo': array(['H', 'M', 'NC'], dtype=object),\n",
      "    'sub_region_1': array([nan], dtype=object),\n",
      "    'sub_region_2': array([nan], dtype=object),\n",
      "    'transit_stations_percent_change_from_baseline': array([nan]),\n",
      "    'workplaces_percent_change_from_baseline': array([nan])}\n"
     ]
    }
   ],
   "source": [
    "pp.pprint(unique_values_in_rows(df, no_coinc))          # Como vemos, para Ceuta y Melilla, hay 7 días en los que no hay datos, comprobado que efectivamente es así en el df original de google, y que no ha sido un fallo del merge tomamos una decisión. \n",
    "                                                        # lo suyo es que rellenásemos los valores, pero para hacerlo de la manera más óptima tendríamos que entrenar un modelo. Así que lo vamos a hacer es simplemente prescindir de ceuta y melilla para este EDA.\n",
    "                                                        # Ya que además en el resto de días también hay muchos huecos."
   ]
  },
  {
   "cell_type": "code",
   "execution_count": 16,
   "metadata": {},
   "outputs": [
    {
     "name": "stdout",
     "output_type": "stream",
     "text": [
      "<class 'pandas.core.frame.DataFrame'>\n",
      "Index: 1114020 entries, 70200 to 1228799\n",
      "Data columns (total 22 columns):\n",
      " #   Column                                              Non-Null Count    Dtype  \n",
      "---  ------                                              --------------    -----  \n",
      " 0   provincia_iso                                       1114020 non-null  object \n",
      " 1   sexo                                                1114020 non-null  object \n",
      " 2   grupo_edad                                          1114020 non-null  object \n",
      " 3   fecha                                               1114020 non-null  object \n",
      " 4   num_casos                                           1114020 non-null  int64  \n",
      " 5   num_hosp                                            1114020 non-null  int64  \n",
      " 6   num_uci                                             1114020 non-null  int64  \n",
      " 7   num_def                                             1114020 non-null  int64  \n",
      " 8   country_region_code                                 1114020 non-null  object \n",
      " 9   country_region                                      1114020 non-null  object \n",
      " 10  sub_region_1                                        1114020 non-null  object \n",
      " 11  sub_region_2                                        1114020 non-null  object \n",
      " 12  iso_3166_2_code                                     1114020 non-null  object \n",
      " 13  place_id                                            1114020 non-null  object \n",
      " 14  date                                                1114020 non-null  object \n",
      " 15  retail_and_recreation_percent_change_from_baseline  1113450 non-null  float64\n",
      " 16  grocery_and_pharmacy_percent_change_from_baseline   1104690 non-null  float64\n",
      " 17  parks_percent_change_from_baseline                  1105980 non-null  float64\n",
      " 18  transit_stations_percent_change_from_baseline       1103160 non-null  float64\n",
      " 19  workplaces_percent_change_from_baseline             1113840 non-null  float64\n",
      " 20  residential_percent_change_from_baseline            1113750 non-null  float64\n",
      " 21  provincia_iso_g                                     1114020 non-null  object \n",
      "dtypes: float64(6), int64(4), object(12)\n",
      "memory usage: 195.5+ MB\n"
     ]
    }
   ],
   "source": [
    "df = df[(df['provincia_iso'] != 'CE') & (df['provincia_iso'] != 'ML')]\n",
    "df.info()"
   ]
  },
  {
   "cell_type": "code",
   "execution_count": 17,
   "metadata": {},
   "outputs": [
    {
     "name": "stdout",
     "output_type": "stream",
     "text": [
      "{   'country_region': array([], dtype=object),\n",
      "    'country_region_code': array([], dtype=object),\n",
      "    'date': array([], dtype=object),\n",
      "    'fecha': array([], dtype=object),\n",
      "    'grocery_and_pharmacy_percent_change_from_baseline': array([], dtype=float64),\n",
      "    'grupo_edad': array([], dtype=object),\n",
      "    'iso_3166_2_code': array([], dtype=object),\n",
      "    'num_casos': array([], dtype=int64),\n",
      "    'num_def': array([], dtype=int64),\n",
      "    'num_hosp': array([], dtype=int64),\n",
      "    'num_uci': array([], dtype=int64),\n",
      "    'parks_percent_change_from_baseline': array([], dtype=float64),\n",
      "    'place_id': array([], dtype=object),\n",
      "    'provincia_iso': array([], dtype=object),\n",
      "    'provincia_iso_g': array([], dtype=object),\n",
      "    'residential_percent_change_from_baseline': array([], dtype=float64),\n",
      "    'retail_and_recreation_percent_change_from_baseline': array([], dtype=float64),\n",
      "    'sexo': array([], dtype=object),\n",
      "    'sub_region_1': array([], dtype=object),\n",
      "    'sub_region_2': array([], dtype=object),\n",
      "    'transit_stations_percent_change_from_baseline': array([], dtype=float64),\n",
      "    'workplaces_percent_change_from_baseline': array([], dtype=float64)}\n"
     ]
    }
   ],
   "source": [
    "pp.pprint(unique_values_in_rows(df,df[df['provincia_iso'].isna()].index.tolist()))"
   ]
  },
  {
   "cell_type": "code",
   "execution_count": 18,
   "metadata": {},
   "outputs": [
    {
     "data": {
      "text/plain": [
       "0"
      ]
     },
     "execution_count": 18,
     "metadata": {},
     "output_type": "execute_result"
    }
   ],
   "source": [
    "len(df[df['provincia_iso'].isna()].index.tolist())"
   ]
  },
  {
   "cell_type": "code",
   "execution_count": 19,
   "metadata": {},
   "outputs": [
    {
     "name": "stdout",
     "output_type": "stream",
     "text": [
      "{   'country_region': array(['Spain'], dtype=object),\n",
      "    'country_region_code': array(['ES'], dtype=object),\n",
      "    'date': array(['2020-02-22', '2020-03-28', '2020-03-29', '2020-04-04',\n",
      "       '2020-04-05', '2020-04-09', '2020-04-10', '2020-04-11',\n",
      "       '2020-04-19', '2020-08-17', '2020-08-18', '2020-08-19',\n",
      "       '2020-08-20', '2020-08-21', '2020-08-22', '2020-08-23',\n",
      "       '2020-08-24', '2020-08-25', '2020-08-26', '2020-08-27',\n",
      "       '2020-08-28', '2020-08-29', '2020-08-30', '2020-08-31',\n",
      "       '2020-09-01', '2020-09-02', '2020-09-03', '2020-09-04',\n",
      "       '2020-09-05', '2020-09-06', '2020-09-07', '2020-09-08',\n",
      "       '2020-09-09', '2020-09-10'], dtype=object),\n",
      "    'fecha': array(['2020-02-22', '2020-03-28', '2020-03-29', '2020-04-04',\n",
      "       '2020-04-05', '2020-04-09', '2020-04-10', '2020-04-11',\n",
      "       '2020-04-19', '2020-08-17', '2020-08-18', '2020-08-19',\n",
      "       '2020-08-20', '2020-08-21', '2020-08-22', '2020-08-23',\n",
      "       '2020-08-24', '2020-08-25', '2020-08-26', '2020-08-27',\n",
      "       '2020-08-28', '2020-08-29', '2020-08-30', '2020-08-31',\n",
      "       '2020-09-01', '2020-09-02', '2020-09-03', '2020-09-04',\n",
      "       '2020-09-05', '2020-09-06', '2020-09-07', '2020-09-08',\n",
      "       '2020-09-09', '2020-09-10'], dtype=object),\n",
      "    'grocery_and_pharmacy_percent_change_from_baseline': array([  3., -62., -85., -61., -86., -73., -95., -51., -84., -80.,  85.,\n",
      "        31.,  27.,  43.,  45.,  61.,  25.,  47.,  34.,  52.,  58.,  nan,\n",
      "        46.,  65.,  17.,  11.,   1.,  29.,  41.,  54.,  16.,  14.,  23.,\n",
      "        37.,  35.,  57.,  10.,   7.,  24.,   5.,   9.,  36.,  32.,  19.,\n",
      "         8.,   6.,  18.,  38.,  21.,  30.,  28.,  26.,  -5., -13.,  22.,\n",
      "        13.,  -2.,  12., 123.,  53.,  20.,   4.,  33.,   2.,  15.,  42.,\n",
      "         0.,  -1.,  -3.,  -7.,  -4.,  87., -49., -10.,  -8.,  80.]),\n",
      "    'grupo_edad': array(['0-9', '10-19', '20-29', '30-39', '40-49', '50-59', '60-69',\n",
      "       '70-79', '80+', 'NC'], dtype=object),\n",
      "    'iso_3166_2_code': array(['ES-TE', 'ES-ZA', 'ES-AV', 'ES-BU', 'ES-CC', 'ES-CU', 'ES-H',\n",
      "       'ES-HU', 'ES-RI', 'ES-LU', 'ES-OR', 'ES-P', 'ES-SG', 'ES-SO',\n",
      "       'ES-CR', 'ES-GU'], dtype=object),\n",
      "    'num_casos': array([ 0,  1,  7,  5,  2,  3,  6,  4, 10,  9,  8, 20, 14, 11, 34, 18, 15,\n",
      "       12, 13, 17, 16, 26, 30, 57, 24], dtype=int64),\n",
      "    'num_def': array([0, 1, 3, 2], dtype=int64),\n",
      "    'num_hosp': array([0, 1, 2, 5, 4, 3, 6], dtype=int64),\n",
      "    'num_uci': array([0, 1, 2], dtype=int64),\n",
      "    'parks_percent_change_from_baseline': array([248., -86., -90., -87., -91., -79., -85., -92., -78.,  nan, 100.,\n",
      "       166., 117., 110.,  68., 181., 142.,  86.,  97., 190., 127.,  83.,\n",
      "        92., 182., 169., 150., 111.,  65.,  64., 125.,  20.,  78., 143.,\n",
      "        38., 121.,  60.,  62., 131.,  39.,  22.,  69., 109.,  28., 124.,\n",
      "        43.,  26.,  54.,  72., 151., 146.,  70.,  73., 157., 137.,  71.,\n",
      "       163.,  58., 153.,  77., 115.,  27.,  41.,  67.,  45.,  13.,  98.,\n",
      "       134.,  17.,  36.,  24.,  46., 101.,  76.,  19.,  66.,   6.,  61.,\n",
      "        23.,  11.,  81.,  53.,  35.,  40.,  82.,  42.,  51., 106.,  37.,\n",
      "        87.,  80.,  33.,  79.,   2.,  50.,  91.,  25.,  31.,  15.,  44.,\n",
      "        52.,   8.,   9.,  12.,  47.,  49.,  34.,  84.]),\n",
      "    'place_id': array(['ChIJnUpflihYXg0R8MvNCGWMAQM', 'ChIJJZxKNg10OQ0RQMzzWgeHBQM',\n",
      "       'ChIJj6yPsjuEQA0RgMnzWgeHBQM', 'ChIJ9ZsJuUntRQ0RwMnzWgeHBQM',\n",
      "       'ChIJEz0HKNv5FQ0R0MmfjP1jBAM', 'ChIJPaBPpUf1Zw0RMMpLvvNAAwM',\n",
      "       'ChIJiYiy9MW-EQ0RgMqfjP1jBAM', 'ChIJtwOaTjZxWA0RkMrNCGWMAQM',\n",
      "       'ChIJu9z3TpJLRQ0Rjimbpl76f3g', 'ChIJU82ZLkW2MQ0R4MrJc4L1BAM',\n",
      "       'ChIJ3VJ27lykOg0RMMvJc4L1BAM', 'ChIJJTy9az_URw0RUMvzWgeHBQM',\n",
      "       'ChIJr5ElYupOQQ0RsMvzWgeHBQM', 'ChIJo_8KEwbHRA0R0MvzWgeHBQM',\n",
      "       'ChIJ6_wEDsndaw0RAMpLvvNAAwM', 'ChIJl9C4p3cuQw0RYMpLvvNAAwM'],\n",
      "      dtype=object),\n",
      "    'provincia_iso': array(['TE', 'ZA', 'AV', 'BU', 'CC', 'CU', 'H', 'HU', 'LO', 'LU', 'OR',\n",
      "       'P', 'SG', 'SO', 'CR', 'GU'], dtype=object),\n",
      "    'provincia_iso_g': array(['TE', 'ZA', 'AV', 'BU', 'CC', 'CU', 'H', 'HU', 'LO', 'LU', 'OR',\n",
      "       'P', 'SG', 'SO', 'CR', 'GU'], dtype=object),\n",
      "    'residential_percent_change_from_baseline': array([-4., 25., 21., 26., 22., 32., 40.,  3.,  2.,  4.,  5.,  1.,  0.,\n",
      "        7.,  6.,  8., -2., -1., -6., -3., -5.]),\n",
      "    'retail_and_recreation_percent_change_from_baseline': array([ 32., -92., -94., -95., -91., -96., -93.,  71.,   6.,  18.,  47.,\n",
      "        39.,  28.,   4.,  17.,   8.,  25.,  nan,  44.,  45.,  64.,   5.,\n",
      "        13.,  -4.,  35.,  40.,  29.,  15.,  14.,  38.,  37.,  58.,  10.,\n",
      "        36.,  -6.,   0.,  22.,  30.,  59.,  -2.,  27.,  24.,  -5.,   1.,\n",
      "        34.,  19.,  20.,   7., -15.,  -1.,  -8.,   2.,  23.,  31.,  -3.,\n",
      "       -23.,  21., -16., -26.,  -7., -13.,  41., -21., -12.,  16.,   9.,\n",
      "         3.,  43.,  26.,  -9.,  11.,  12., -11., -14., -20., -18., -24.,\n",
      "       -19., -10., -17., -22., -25.]),\n",
      "    'sexo': array(['H', 'M', 'NC'], dtype=object),\n",
      "    'sub_region_1': array(['Aragon', 'Castile and León', 'Extremadura', 'Castile-La Mancha',\n",
      "       'Andalusia', 'La Rioja', 'Galicia'], dtype=object),\n",
      "    'sub_region_2': array(['Teruel', 'Zamora', 'Ávila', 'Burgos', 'Cáceres', 'Cuenca',\n",
      "       'Huelva', 'Huesca', 'La Rioja', 'Lugo', 'Orense', 'Palencia',\n",
      "       'Segovia', 'Soria', 'Ciudad Real', 'Guadalajara'], dtype=object),\n",
      "    'transit_stations_percent_change_from_baseline': array([nan]),\n",
      "    'workplaces_percent_change_from_baseline': array([  1., -61., -65., -63., -67., -82., -87., -64., -56., -30., -38.,\n",
      "       -31., -25., -28., -33., -40., -32., -35., -27., -26., -29., -23.,\n",
      "       -37., -34., -36., -24.,  11.,  -2.,   2.,  -7.,   3.,  -3.,  -4.,\n",
      "        nan,   7.,  18.,  10.,   8.,  14.,  16.,   4., -22., -21., -19.,\n",
      "       -20.,   5.,  -5.,   6.,   0.,  26.,  -1.,  12.,  24.,  23.,  17.,\n",
      "       -15., -17., -12., -16.,  -8., -14., -46.,  -9., -18., -13.,   9.,\n",
      "        -6.,  15.,  46.,  20.,  30.,  13.,  38., -10., -11.])}\n"
     ]
    }
   ],
   "source": [
    "pp.pprint(unique_values_in_rows(df,df[df['transit_stations_percent_change_from_baseline'].isna()].index.tolist()))"
   ]
  },
  {
   "cell_type": "code",
   "execution_count": 20,
   "metadata": {},
   "outputs": [],
   "source": [
    "def fillna_valor_mas_cercano(df, fillcol, fecha_col, provincia_col):\n",
    "    '''\n",
    "    Rellena los valores nulos de una columna en función del valor más cercano en días\n",
    "    para una provincia dada.\n",
    "    \n",
    "    :param df: DataFrame\n",
    "    :param fillcol: Nombre de la columna a rellenar.\n",
    "    :param fecha_col: Nombre de la columna de fecha.\n",
    "    :param provincia_col: Nombre de la columna de provincia.\n",
    "    '''\n",
    "    # Asegurarse de que la columna de fecha sea de tipo datetime\n",
    "    df[fecha_col] = pd.to_datetime(df[fecha_col])\n",
    "\n",
    "    # Obtener las provincias únicas\n",
    "    # Obtener los índices de las filas donde 'fillcol' es nulo\n",
    "    indices_nulos = df[df[fillcol].isna()].index.tolist()\n",
    "\n",
    "    # Usar la función unique_values_in_rows para obtener los valores únicos de 'provincia_col'\n",
    "    valores_unicos = unique_values_in_rows(df, indices_nulos, [provincia_col])\n",
    "\n",
    "    # Extraer las provincias únicas desde el diccionario\n",
    "    provincias = valores_unicos[provincia_col]\n",
    "\n",
    "\n",
    "    for provincia in provincias:\n",
    "        # Filtrar el DataFrame por provincia\n",
    "        df_prov = df[df[provincia_col] == provincia].sort_values(fecha_col)\n",
    "\n",
    "        for index, row in df_prov.iterrows():\n",
    "            if pd.isna(row[fillcol]):\n",
    "                fecha = row[fecha_col]\n",
    "                dias = 1\n",
    "                valor_encontrado = False\n",
    "\n",
    "                while not valor_encontrado:\n",
    "                    # Buscar en días anteriores y posteriores\n",
    "                    dia_anterior = fecha - pd.Timedelta(days=dias)\n",
    "                    dia_posterior = fecha + pd.Timedelta(days=dias)\n",
    "\n",
    "                    # Valores en días adyacentes\n",
    "                    valor_anterior = df_prov[df_prov[fecha_col] == dia_anterior][fillcol].dropna()\n",
    "                    valor_posterior = df_prov[df_prov[fecha_col] == dia_posterior][fillcol].dropna()\n",
    "\n",
    "                    if not valor_anterior.empty:\n",
    "                        df.at[index, fillcol] = valor_anterior.iloc[0]\n",
    "                        valor_encontrado = True\n",
    "                    elif not valor_posterior.empty:\n",
    "                        df.at[index, fillcol] = valor_posterior.iloc[0]\n",
    "                        valor_encontrado = True\n",
    "\n",
    "                    dias += 1  # Incrementar el rango de búsqueda"
   ]
  },
  {
   "cell_type": "code",
   "execution_count": 21,
   "metadata": {},
   "outputs": [],
   "source": [
    "add_data_col = ['retail_and_recreation_percent_change_from_baseline', 'grocery_and_pharmacy_percent_change_from_baseline', 'parks_percent_change_from_baseline', 'transit_stations_percent_change_from_baseline', 'workplaces_percent_change_from_baseline', 'residential_percent_change_from_baseline']\n",
    "for col in add_data_col:\n",
    "    fillna_valor_mas_cercano(df, col, 'fecha', 'provincia_iso')"
   ]
  },
  {
   "cell_type": "code",
   "execution_count": 22,
   "metadata": {},
   "outputs": [
    {
     "data": {
      "text/plain": [
       "array([ 45.,  18.,  16.,   8.,  11.,  34.,  49.,  29.,  28.,  17.,  15.,\n",
       "        22.,  31.,  14.,  13.,  10.,  32.,  44.,  25.,  19.,  12.,  -2.,\n",
       "       -32., -66., -58., -65., -64., -68., -77., -82., -69., -73., -72.,\n",
       "       -70., -76., -85., -71., -78., -81., -74., -83., -67., -75., -62.,\n",
       "       -63., -54., -43., -45., -47., -59., -31., -40., -49., -42., -46.,\n",
       "       -28., -35., -34., -36., -21., -24., -25., -23., -18., -17., -26.,\n",
       "       -27., -19., -12., -16., -13.,  -5., -15., -20., -10.,   6.,  -8.,\n",
       "        -3.,  -7.,  -1.,   3.,   5.,   7.,  20.,  35.,  36.,   9.,  24.,\n",
       "        23.,  47.,  38.,  40.,  37.,  43.,  48.,   2.,  30.,   0.,  26.,\n",
       "        21.,  -4., -14.,  -9.,   1.,  -6.,   4., -37., -11., -33., -38.,\n",
       "       -30., -39.,  27.,  33.,  46.,  53.,  52.,  39.,  54.,  42.,  57.,\n",
       "        56.,  41.,  61.,  51.,  50.,  74.,  68.,  62.,  63.,  60.,  67.,\n",
       "        58.,  73.,  84.,  64.,  93.,  99.,  96., 105.,  87., 106., 100.,\n",
       "        95., 104., 107.,  85., 103.,  97.,  91.,  77.,  83.,  82.,  88.,\n",
       "        76.,  66.,  69.,  55.,  72.,  65.,  59.,  70.,  75.])"
      ]
     },
     "execution_count": 22,
     "metadata": {},
     "output_type": "execute_result"
    }
   ],
   "source": [
    "df.loc[df['sub_region_2'] == 'Huelva', 'transit_stations_percent_change_from_baseline'].unique()"
   ]
  },
  {
   "cell_type": "code",
   "execution_count": 23,
   "metadata": {},
   "outputs": [
    {
     "name": "stdout",
     "output_type": "stream",
     "text": [
      "<class 'pandas.core.frame.DataFrame'>\n",
      "Index: 1114020 entries, 70200 to 1228799\n",
      "Data columns (total 22 columns):\n",
      " #   Column                                              Non-Null Count    Dtype         \n",
      "---  ------                                              --------------    -----         \n",
      " 0   provincia_iso                                       1114020 non-null  object        \n",
      " 1   sexo                                                1114020 non-null  object        \n",
      " 2   grupo_edad                                          1114020 non-null  object        \n",
      " 3   fecha                                               1114020 non-null  datetime64[ns]\n",
      " 4   num_casos                                           1114020 non-null  int64         \n",
      " 5   num_hosp                                            1114020 non-null  int64         \n",
      " 6   num_uci                                             1114020 non-null  int64         \n",
      " 7   num_def                                             1114020 non-null  int64         \n",
      " 8   country_region_code                                 1114020 non-null  object        \n",
      " 9   country_region                                      1114020 non-null  object        \n",
      " 10  sub_region_1                                        1114020 non-null  object        \n",
      " 11  sub_region_2                                        1114020 non-null  object        \n",
      " 12  iso_3166_2_code                                     1114020 non-null  object        \n",
      " 13  place_id                                            1114020 non-null  object        \n",
      " 14  date                                                1114020 non-null  object        \n",
      " 15  retail_and_recreation_percent_change_from_baseline  1114020 non-null  float64       \n",
      " 16  grocery_and_pharmacy_percent_change_from_baseline   1114020 non-null  float64       \n",
      " 17  parks_percent_change_from_baseline                  1114020 non-null  float64       \n",
      " 18  transit_stations_percent_change_from_baseline       1114020 non-null  float64       \n",
      " 19  workplaces_percent_change_from_baseline             1114020 non-null  float64       \n",
      " 20  residential_percent_change_from_baseline            1114020 non-null  float64       \n",
      " 21  provincia_iso_g                                     1114020 non-null  object        \n",
      "dtypes: datetime64[ns](1), float64(6), int64(4), object(11)\n",
      "memory usage: 227.7+ MB\n"
     ]
    }
   ],
   "source": [
    "df.info()"
   ]
  },
  {
   "cell_type": "code",
   "execution_count": 24,
   "metadata": {},
   "outputs": [
    {
     "data": {
      "text/plain": [
       "array(['ChIJfdrHtbc5Yg0RYMkh126vAgM', 'ChIJ0XrEWB18Zg0RUMlLvvNAAwM',\n",
       "       'ChIJZQoW955UZQ0RcMl1pXjSAwM', 'ChIJj6yPsjuEQA0RgMnzWgeHBQM',\n",
       "       'ChIJZb1_yQvmpBIRsMmjIeD6AAM', 'ChIJ28y339ptFA0RkMmfjP1jBAM',\n",
       "       'ChIJzxBUoQZOTg0RMMzJc4L1BAM', 'ChIJ9ZsJuUntRQ0RwMnzWgeHBQM',\n",
       "       'ChIJGQVeRvRfLg0RIMrJc4L1BAM', 'ChIJaxjPWk6qDQ0R4MmfjP1jBAM',\n",
       "       'ChIJEz0HKNv5FQ0R0MmfjP1jBAM', 'ChIJm30-GKPebA0REMp1pXjSAwM',\n",
       "       'ChIJ6_wEDsndaw0RAMpLvvNAAwM', 'ChIJd-4zz4vzXw0R8Mkh126vAgM',\n",
       "       'ChIJPaBPpUf1Zw0RMMpLvvNAAwM', 'ChIJvy1D_6YfRwwRYMtLvvNAAwM',\n",
       "       'ChIJRRrTHsPNuhIRQMqjIeD6AAM', 'ChIJuexUhnolbg0RUMp1pXjSAwM',\n",
       "       'ChIJl9C4p3cuQw0RYMpLvvNAAwM', 'ChIJiYiy9MW-EQ0RgMqfjP1jBAM',\n",
       "       'ChIJtwOaTjZxWA0RkMrNCGWMAQM', 'ChIJxaS9-r71bg0RoMp1pXjSAwM',\n",
       "       'ChIJJQQpq4R6phIRwMqjIeD6AAM', 'ChIJU7YQYQduNw0RsMrzWgeHBQM',\n",
       "       'ChIJu9z3TpJLRQ0Rjimbpl76f3g', 'ChIJU82ZLkW2MQ0R4MrJc4L1BAM',\n",
       "       'ChIJuTPgQHqBQQ0RgMhLvvNAAwE', 'ChIJUyii_DXqcg0RAMt1pXjSAwM',\n",
       "       'ChIJza6U13waYw0RIthUR_UzzhQ', 'ChIJhVbJl_eSUA0RDop817cZqx0',\n",
       "       'ChIJnbCeYPqMNg0ROp7GfSvztfg', 'ChIJ3VJ27lykOg0RMMvJc4L1BAM',\n",
       "       'ChIJJTy9az_URw0RUMvzWgeHBQM', 'ChIJV2Jp3FqSlxIRFU2l-yEDh_8',\n",
       "       'ChIJIVLRnnmDLw0RcMvJc4L1BAM', 'ChIJy78OCdsgSQ0R0MjJc4L1BAE',\n",
       "       'ChIJF53SGUzqPg0RgMvzWgeHBQM', 'ChIJadFr4dryEg0RwMufjP1jBAM',\n",
       "       'ChIJr5ElYupOQQ0RsMvzWgeHBQM', 'ChIJo_8KEwbHRA0R0MvzWgeHBQM',\n",
       "       'ChIJzcnkHDg1UA0RcMrJc4L1BAM', 'ChIJ7TlkZl9HoRIR4MujIeD6AAM',\n",
       "       'ChIJnUpflihYXg0R8MvNCGWMAQM', 'ChIJLc1e8Zj5agwRkMtLvvNAAwM',\n",
       "       'ChIJYWSMQ3lxag0RAMxLvvNAAwM', 'ChIJRchn1xjlYA0REMwh126vAgM',\n",
       "       'ChIJd2P6Oh5zRw0RIMzzWgeHBQM', 'ChIJMzKUYhbATw0RQMnJc4L1BAM',\n",
       "       'ChIJe4uZsFkLWQ0RUMzNCGWMAQM', 'ChIJJZxKNg10OQ0RQMzzWgeHBQM'],\n",
       "      dtype=object)"
      ]
     },
     "execution_count": 24,
     "metadata": {},
     "output_type": "execute_result"
    }
   ],
   "source": [
    "df['place_id'].unique()"
   ]
  },
  {
   "cell_type": "code",
   "execution_count": 25,
   "metadata": {},
   "outputs": [],
   "source": [
    "df.drop(['date', 'provincia_iso_g', 'country_region_code', 'iso_3166_2_code'], axis=1, inplace= True)"
   ]
  },
  {
   "cell_type": "code",
   "execution_count": 26,
   "metadata": {},
   "outputs": [],
   "source": [
    "df.rename(columns = {'country_region': 'país', 'sub_region_1': 'comunidad', 'sub_region_2': 'provincia', 'retail_and_recreation_percent_change_from_baseline': 'comercio_ocio', 'grocery_and_pharmacy_percent_change_from_baseline': 'supermercados_farmacias',\n",
    "                     'parks_percent_change_from_baseline': 'parques', 'transit_stations_percent_change_from_baseline': 'estaciones', 'workplaces_percent_change_from_baseline': 'trabajo', 'residential_percent_change_from_baseline': 'residencia'}, inplace= True)"
   ]
  },
  {
   "cell_type": "code",
   "execution_count": 27,
   "metadata": {},
   "outputs": [],
   "source": [
    "nuevo_orden = ['país', 'comunidad', 'provincia', 'provincia_iso', 'fecha', 'sexo', 'grupo_edad', 'num_casos', 'num_hosp', 'num_uci', 'num_def', 'place_id',\n",
    "       'comercio_ocio', 'supermercados_farmacias', 'parques', 'estaciones', 'trabajo', 'residencia']\n",
    "df = df[nuevo_orden]"
   ]
  },
  {
   "cell_type": "code",
   "execution_count": 28,
   "metadata": {},
   "outputs": [
    {
     "data": {
      "text/html": [
       "<div>\n",
       "<style scoped>\n",
       "    .dataframe tbody tr th:only-of-type {\n",
       "        vertical-align: middle;\n",
       "    }\n",
       "\n",
       "    .dataframe tbody tr th {\n",
       "        vertical-align: top;\n",
       "    }\n",
       "\n",
       "    .dataframe thead th {\n",
       "        text-align: right;\n",
       "    }\n",
       "</style>\n",
       "<table border=\"1\" class=\"dataframe\">\n",
       "  <thead>\n",
       "    <tr style=\"text-align: right;\">\n",
       "      <th></th>\n",
       "      <th>país</th>\n",
       "      <th>comunidad</th>\n",
       "      <th>provincia</th>\n",
       "      <th>provincia_iso</th>\n",
       "      <th>fecha</th>\n",
       "      <th>sexo</th>\n",
       "      <th>grupo_edad</th>\n",
       "      <th>num_casos</th>\n",
       "      <th>num_hosp</th>\n",
       "      <th>num_uci</th>\n",
       "      <th>num_def</th>\n",
       "      <th>place_id</th>\n",
       "      <th>comercio_ocio</th>\n",
       "      <th>supermercados_farmacias</th>\n",
       "      <th>parques</th>\n",
       "      <th>estaciones</th>\n",
       "      <th>trabajo</th>\n",
       "      <th>residencia</th>\n",
       "    </tr>\n",
       "  </thead>\n",
       "  <tbody>\n",
       "    <tr>\n",
       "      <th>0</th>\n",
       "      <td>Spain</td>\n",
       "      <td>Valencian Community</td>\n",
       "      <td>Alicante</td>\n",
       "      <td>A</td>\n",
       "      <td>2020-02-15</td>\n",
       "      <td>H</td>\n",
       "      <td>0-9</td>\n",
       "      <td>0</td>\n",
       "      <td>0</td>\n",
       "      <td>0</td>\n",
       "      <td>0</td>\n",
       "      <td>ChIJfdrHtbc5Yg0RYMkh126vAgM</td>\n",
       "      <td>3.0</td>\n",
       "      <td>-1.0</td>\n",
       "      <td>34.0</td>\n",
       "      <td>7.0</td>\n",
       "      <td>0.0</td>\n",
       "      <td>-1.0</td>\n",
       "    </tr>\n",
       "    <tr>\n",
       "      <th>1</th>\n",
       "      <td>Spain</td>\n",
       "      <td>Valencian Community</td>\n",
       "      <td>Alicante</td>\n",
       "      <td>A</td>\n",
       "      <td>2020-02-15</td>\n",
       "      <td>H</td>\n",
       "      <td>10-19</td>\n",
       "      <td>0</td>\n",
       "      <td>0</td>\n",
       "      <td>0</td>\n",
       "      <td>0</td>\n",
       "      <td>ChIJfdrHtbc5Yg0RYMkh126vAgM</td>\n",
       "      <td>3.0</td>\n",
       "      <td>-1.0</td>\n",
       "      <td>34.0</td>\n",
       "      <td>7.0</td>\n",
       "      <td>0.0</td>\n",
       "      <td>-1.0</td>\n",
       "    </tr>\n",
       "    <tr>\n",
       "      <th>2</th>\n",
       "      <td>Spain</td>\n",
       "      <td>Valencian Community</td>\n",
       "      <td>Alicante</td>\n",
       "      <td>A</td>\n",
       "      <td>2020-02-15</td>\n",
       "      <td>H</td>\n",
       "      <td>20-29</td>\n",
       "      <td>0</td>\n",
       "      <td>0</td>\n",
       "      <td>0</td>\n",
       "      <td>0</td>\n",
       "      <td>ChIJfdrHtbc5Yg0RYMkh126vAgM</td>\n",
       "      <td>3.0</td>\n",
       "      <td>-1.0</td>\n",
       "      <td>34.0</td>\n",
       "      <td>7.0</td>\n",
       "      <td>0.0</td>\n",
       "      <td>-1.0</td>\n",
       "    </tr>\n",
       "    <tr>\n",
       "      <th>3</th>\n",
       "      <td>Spain</td>\n",
       "      <td>Valencian Community</td>\n",
       "      <td>Alicante</td>\n",
       "      <td>A</td>\n",
       "      <td>2020-02-15</td>\n",
       "      <td>H</td>\n",
       "      <td>30-39</td>\n",
       "      <td>0</td>\n",
       "      <td>0</td>\n",
       "      <td>0</td>\n",
       "      <td>0</td>\n",
       "      <td>ChIJfdrHtbc5Yg0RYMkh126vAgM</td>\n",
       "      <td>3.0</td>\n",
       "      <td>-1.0</td>\n",
       "      <td>34.0</td>\n",
       "      <td>7.0</td>\n",
       "      <td>0.0</td>\n",
       "      <td>-1.0</td>\n",
       "    </tr>\n",
       "    <tr>\n",
       "      <th>4</th>\n",
       "      <td>Spain</td>\n",
       "      <td>Valencian Community</td>\n",
       "      <td>Alicante</td>\n",
       "      <td>A</td>\n",
       "      <td>2020-02-15</td>\n",
       "      <td>H</td>\n",
       "      <td>40-49</td>\n",
       "      <td>0</td>\n",
       "      <td>0</td>\n",
       "      <td>0</td>\n",
       "      <td>0</td>\n",
       "      <td>ChIJfdrHtbc5Yg0RYMkh126vAgM</td>\n",
       "      <td>3.0</td>\n",
       "      <td>-1.0</td>\n",
       "      <td>34.0</td>\n",
       "      <td>7.0</td>\n",
       "      <td>0.0</td>\n",
       "      <td>-1.0</td>\n",
       "    </tr>\n",
       "  </tbody>\n",
       "</table>\n",
       "</div>"
      ],
      "text/plain": [
       "    país            comunidad provincia provincia_iso      fecha sexo  \\\n",
       "0  Spain  Valencian Community  Alicante             A 2020-02-15    H   \n",
       "1  Spain  Valencian Community  Alicante             A 2020-02-15    H   \n",
       "2  Spain  Valencian Community  Alicante             A 2020-02-15    H   \n",
       "3  Spain  Valencian Community  Alicante             A 2020-02-15    H   \n",
       "4  Spain  Valencian Community  Alicante             A 2020-02-15    H   \n",
       "\n",
       "  grupo_edad  num_casos  num_hosp  num_uci  num_def  \\\n",
       "0        0-9          0         0        0        0   \n",
       "1      10-19          0         0        0        0   \n",
       "2      20-29          0         0        0        0   \n",
       "3      30-39          0         0        0        0   \n",
       "4      40-49          0         0        0        0   \n",
       "\n",
       "                      place_id  comercio_ocio  supermercados_farmacias  \\\n",
       "0  ChIJfdrHtbc5Yg0RYMkh126vAgM            3.0                     -1.0   \n",
       "1  ChIJfdrHtbc5Yg0RYMkh126vAgM            3.0                     -1.0   \n",
       "2  ChIJfdrHtbc5Yg0RYMkh126vAgM            3.0                     -1.0   \n",
       "3  ChIJfdrHtbc5Yg0RYMkh126vAgM            3.0                     -1.0   \n",
       "4  ChIJfdrHtbc5Yg0RYMkh126vAgM            3.0                     -1.0   \n",
       "\n",
       "   parques  estaciones  trabajo  residencia  \n",
       "0     34.0         7.0      0.0        -1.0  \n",
       "1     34.0         7.0      0.0        -1.0  \n",
       "2     34.0         7.0      0.0        -1.0  \n",
       "3     34.0         7.0      0.0        -1.0  \n",
       "4     34.0         7.0      0.0        -1.0  "
      ]
     },
     "execution_count": 28,
     "metadata": {},
     "output_type": "execute_result"
    }
   ],
   "source": [
    "df.reset_index(drop = True, inplace= True)\n",
    "df.head()"
   ]
  },
  {
   "cell_type": "code",
   "execution_count": 29,
   "metadata": {},
   "outputs": [],
   "source": [
    "df.to_csv('eda_estudio.csv')"
   ]
  },
  {
   "cell_type": "code",
   "execution_count": 30,
   "metadata": {},
   "outputs": [],
   "source": [
    "chunksize = 300 * 1024  # Tamaño máximo por fragmento (25MB)\n",
    "i = 1\n",
    "\n",
    "for chunk in pd.read_csv('eda_estudio.csv', chunksize=chunksize, low_memory= False):\n",
    "    chunk.to_csv(f'eda_estudio_part_{i}.csv', index=False)\n",
    "    i += 1"
   ]
  }
 ],
 "metadata": {
  "kernelspec": {
   "display_name": "Python 3",
   "language": "python",
   "name": "python3"
  },
  "language_info": {
   "codemirror_mode": {
    "name": "ipython",
    "version": 3
   },
   "file_extension": ".py",
   "mimetype": "text/x-python",
   "name": "python",
   "nbconvert_exporter": "python",
   "pygments_lexer": "ipython3",
   "version": "3.11.4"
  }
 },
 "nbformat": 4,
 "nbformat_minor": 2
}
